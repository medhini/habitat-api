{
 "cells": [
  {
   "cell_type": "markdown",
   "metadata": {},
   "source": [
    "# Obtaining Statistics of the RoomNav dataset"
   ]
  },
  {
   "cell_type": "markdown",
   "metadata": {},
   "source": [
    "1. Average Geodesic Distances\n",
    "2. Histogram of distances vs episodes\n",
    "3. Average of top-down maps\n",
    "4. Lenght of oracle"
   ]
  },
  {
   "cell_type": "code",
   "execution_count": 2,
   "metadata": {
    "scrolled": false
   },
   "outputs": [
    {
     "name": "stderr",
     "output_type": "stream",
     "text": [
      "2019-07-29 21:55:40,529 initializing sim Sim-v0\n",
      "I0729 21:55:40.536377 71698 simulator.py:78] Loaded navmesh /private/home/medhini/navigation-analysis-habitat/habitat-api/data/scene_datasets/mp3d/2azQ1b91cZZ/2azQ1b91cZZ.navmesh\n",
      "2019-07-29 21:55:50,289 initializing task Nav-v0\n"
     ]
    },
    {
     "name": "stdout",
     "output_type": "stream",
     "text": [
      "EPISODE COUNT: 800\n"
     ]
    },
    {
     "name": "stderr",
     "output_type": "stream",
     "text": [
      "I0729 21:56:13.520549 71698 simulator.py:78] Loaded navmesh /private/home/medhini/navigation-analysis-habitat/habitat-api/data/scene_datasets/mp3d/X7HyMhZNoso/X7HyMhZNoso.navmesh\n",
      "I0729 21:56:30.233211 71698 simulator.py:78] Loaded navmesh /private/home/medhini/navigation-analysis-habitat/habitat-api/data/scene_datasets/mp3d/oLBMNvg9in8/oLBMNvg9in8.navmesh\n",
      "I0729 21:56:45.734241 71698 simulator.py:78] Loaded navmesh /private/home/medhini/navigation-analysis-habitat/habitat-api/data/scene_datasets/mp3d/zsNo4HB9uLZ/zsNo4HB9uLZ.navmesh\n"
     ]
    },
    {
     "name": "stdout",
     "output_type": "stream",
     "text": [
      "SPLIT:  val\n",
      "Average Euclidean Distance:  7.727081631084327\n",
      "Max Euclidean Distance:  28.2969745232525\n",
      "Min Euclidean Distance:  1.7841792368277798\n",
      "Average Geodesic Distance:  11.74952852845192\n",
      "Max Geodesic Distance:  32.39596176147461\n",
      "Min Geodesic Distance:  4.020570278167725\n"
     ]
    },
    {
     "data": {
      "image/png": "[encoded data removed]",
      "text/plain": [
       "<Figure size 432x288 with 1 Axes>"
      ]
     },
     "metadata": {
      "needs_background": "light"
     },
     "output_type": "display_data"
    },
    {
     "data": {
      "image/png": "[encoded data removed]",
      "text/plain": [
       "<Figure size 432x288 with 1 Axes>"
      ]
     },
     "metadata": {
      "needs_background": "light"
     },
     "output_type": "display_data"
    },
    {
     "data": {
      "image/png": "[encoded data removed]",
      "text/plain": [
       "<Figure size 432x288 with 1 Axes>"
      ]
     },
     "metadata": {
      "needs_background": "light"
     },
     "output_type": "display_data"
    }
   ],
   "source": [
    "import habitat\n",
    "\n",
    "import numpy as np\n",
    "import random\n",
    "\n",
    "%matplotlib inline\n",
    "import matplotlib.pyplot as plt\n",
    "\n",
    "splits = ['val']\n",
    "\n",
    "data_path = '../data/datasets/roomnav/mp3d/v1/{split}/{split}.json.gz'\n",
    "\n",
    "for split in splits:\n",
    "    \n",
    "    avg_gd = 0\n",
    "    avg_ed = 0\n",
    "    min_gd = 10000000000\n",
    "    max_gd = 0\n",
    "    min_ed = 10000000000\n",
    "    max_ed = 0\n",
    "    \n",
    "    gd_dists = []\n",
    "    ed_dists = []\n",
    "    gd2ed = []\n",
    "\n",
    "    config = habitat.get_config(config_paths='../configs/tasks/pointnav_roomnav_mp3d.yaml')\n",
    "    config.defrost()\n",
    "    config.DATASET.DATA_PATH = data_path.format(split=split)\n",
    "    config.DATASET.SCENES_DIR = '../data/scene_datasets/'\n",
    "    config.freeze()\n",
    "    \n",
    "    env = habitat.Env(config=config)\n",
    "    \n",
    "    print('EPISODE COUNT:', len(env.episodes))\n",
    "\n",
    "    for i in range(len(env.episodes)):\n",
    "        observations = env.reset()\n",
    "      \n",
    "        sp = env.current_episode.start_position\n",
    "        tp = env.current_episode.goals[0].position\n",
    "        \n",
    "        gd = env.sim.geodesic_distance(sp, tp)\n",
    "        ed = np.power(np.power(np.array(sp) - np.array(tp), 2).sum(0), 0.5)\n",
    "        \n",
    "        gd2ed.append(gd/ed)\n",
    "        gd_dists.append(gd)\n",
    "        ed_dists.append(ed)\n",
    "\n",
    "    env.close()\n",
    "    \n",
    "    ed_dists = np.asarray(ed_dists)\n",
    "    gd_dists = np.asarray(gd_dists)\n",
    "    gd2ed = np.asarray(gd2ed)\n",
    "    \n",
    "    print('SPLIT: ', split)\n",
    "    print('Average Euclidean Distance: ', np.mean(ed_dists))\n",
    "    print('Max Euclidean Distance: ', np.max(ed_dists))\n",
    "    print('Min Euclidean Distance: ', np.min(ed_dists))\n",
    "    \n",
    "    print('Average Geodesic Distance: ', np.mean(gd_dists))\n",
    "    print('Max Geodesic Distance: ', np.max(gd_dists))\n",
    "    print('Min Geodesic Distance: ', np.min(gd_dists))\n",
    "    \n",
    "    plt.hist(gd_dists.astype(int), bins=int(np.max(gd_dists)))\n",
    "    plt.title(\"Geodesic Distance\")\n",
    "    plt.ylabel('Episodes')\n",
    "    plt.show()\n",
    "\n",
    "    plt.hist(ed_dists.astype(int), bins=int(np.max(ed_dists)))\n",
    "    plt.title(\"Euclidean Distance\")\n",
    "    plt.ylabel('Episodes')\n",
    "    plt.show()\n",
    "    \n",
    "    plt.hist(np.around(gd2ed, decimals=4), bins=100)\n",
    "    plt.title(\"Geodesic to Euclidean Ratio\")\n",
    "    plt.ylabel('Episodes')\n",
    "    plt.show()\n",
    "    "
   ]
  },
  {
   "cell_type": "code",
   "execution_count": 1,
   "metadata": {
    "scrolled": false
   },
   "outputs": [
    {
     "name": "stderr",
     "output_type": "stream",
     "text": [
      "2019-07-29 23:03:10,365 initializing sim Sim-v0\n",
      "I0729 23:03:10.372941 78010 simulator.py:78] Loaded navmesh /private/home/medhini/navigation-analysis-habitat/habitat-api/data/scene_datasets/mp3d/2azQ1b91cZZ/2azQ1b91cZZ.navmesh\n",
      "2019-07-29 23:03:20,718 initializing task Nav-v0\n"
     ]
    },
    {
     "name": "stdout",
     "output_type": "stream",
     "text": [
      "800\n"
     ]
    },
    {
     "name": "stderr",
     "output_type": "stream",
     "text": [
      "I0729 23:03:37.438512 78010 simulator.py:78] Loaded navmesh /private/home/medhini/navigation-analysis-habitat/habitat-api/data/scene_datasets/mp3d/X7HyMhZNoso/X7HyMhZNoso.navmesh\n",
      "I0729 23:03:50.071396 78010 simulator.py:78] Loaded navmesh /private/home/medhini/navigation-analysis-habitat/habitat-api/data/scene_datasets/mp3d/oLBMNvg9in8/oLBMNvg9in8.navmesh\n",
      "I0729 23:04:03.823215 78010 simulator.py:78] Loaded navmesh /private/home/medhini/navigation-analysis-habitat/habitat-api/data/scene_datasets/mp3d/zsNo4HB9uLZ/zsNo4HB9uLZ.navmesh\n"
     ]
    },
    {
     "name": "stdout",
     "output_type": "stream",
     "text": [
      "SPLIT:  val\n",
      "Average Euclidean Distance:  7.727081631084327\n",
      "Max Euclidean Distance:  28.2969745232525\n",
      "Min Euclidean Distance:  1.7841792368277798\n",
      "Average Geodesic Distance:  11.74952852845192\n",
      "Max Geodesic Distance:  32.39596176147461\n",
      "Min Geodesic Distance:  4.020570278167725\n"
     ]
    },
    {
     "data": {
      "image/png": "[encoded data removed]",
      "text/plain": [
       "<Figure size 432x288 with 1 Axes>"
      ]
     },
     "metadata": {
      "needs_background": "light"
     },
     "output_type": "display_data"
    },
    {
     "data": {
      "image/png": "[encoded data removed]",
      "text/plain": [
       "<Figure size 432x288 with 1 Axes>"
      ]
     },
     "metadata": {
      "needs_background": "light"
     },
     "output_type": "display_data"
    },
    {
     "data": {
      "image/png": "[encoded data removed]",
      "text/plain": [
       "<Figure size 432x288 with 1 Axes>"
      ]
     },
     "metadata": {
      "needs_background": "light"
     },
     "output_type": "display_data"
    },
    {
     "name": "stderr",
     "output_type": "stream",
     "text": [
      "2019-07-29 23:04:12,128 initializing sim Sim-v0\n",
      "I0729 23:04:12.135145 78010 simulator.py:78] Loaded navmesh /private/home/medhini/navigation-analysis-habitat/habitat-api/data/scene_datasets/mp3d/2t7WUuJeko7/2t7WUuJeko7.navmesh\n",
      "2019-07-29 23:04:14,054 initializing task Nav-v0\n"
     ]
    },
    {
     "name": "stdout",
     "output_type": "stream",
     "text": [
      "500\n"
     ]
    },
    {
     "name": "stderr",
     "output_type": "stream",
     "text": [
      "I0729 23:04:15.254904 78010 simulator.py:78] Loaded navmesh /private/home/medhini/navigation-analysis-habitat/habitat-api/data/scene_datasets/mp3d/5ZKStnWn8Zo/5ZKStnWn8Zo.navmesh\n",
      "I0729 23:04:26.154970 78010 simulator.py:78] Loaded navmesh /private/home/medhini/navigation-analysis-habitat/habitat-api/data/scene_datasets/mp3d/ARNzJeq3xxb/ARNzJeq3xxb.navmesh\n",
      "I0729 23:04:31.914819 78010 simulator.py:78] Loaded navmesh /private/home/medhini/navigation-analysis-habitat/habitat-api/data/scene_datasets/mp3d/RPmz2sHmrrY/RPmz2sHmrrY.navmesh\n",
      "I0729 23:04:35.180928 78010 simulator.py:78] Loaded navmesh /private/home/medhini/navigation-analysis-habitat/habitat-api/data/scene_datasets/mp3d/WYY7iVyf5p8/WYY7iVyf5p8.navmesh\n",
      "I0729 23:04:40.115272 78010 simulator.py:78] Loaded navmesh /private/home/medhini/navigation-analysis-habitat/habitat-api/data/scene_datasets/mp3d/YFuZgdQ5vWj/YFuZgdQ5vWj.navmesh\n",
      "I0729 23:04:46.302609 78010 simulator.py:78] Loaded navmesh /private/home/medhini/navigation-analysis-habitat/habitat-api/data/scene_datasets/mp3d/YVUC4YcDtcY/YVUC4YcDtcY.navmesh\n",
      "I0729 23:04:50.573972 78010 simulator.py:78] Loaded navmesh /private/home/medhini/navigation-analysis-habitat/habitat-api/data/scene_datasets/mp3d/jtcxE69GiFV/jtcxE69GiFV.navmesh\n",
      "I0729 23:05:06.839405 78010 simulator.py:78] Loaded navmesh /private/home/medhini/navigation-analysis-habitat/habitat-api/data/scene_datasets/mp3d/q9vSo1VnCiC/q9vSo1VnCiC.navmesh\n",
      "I0729 23:05:15.422369 78010 simulator.py:78] Loaded navmesh /private/home/medhini/navigation-analysis-habitat/habitat-api/data/scene_datasets/mp3d/wc2JMjhGNzB/wc2JMjhGNzB.navmesh\n"
     ]
    },
    {
     "name": "stdout",
     "output_type": "stream",
     "text": [
      "SPLIT:  test\n",
      "Average Euclidean Distance:  8.538436747777308\n",
      "Max Euclidean Distance:  27.43771410550388\n",
      "Min Euclidean Distance:  1.3008008842477259\n",
      "Average Geodesic Distance:  11.119246767044068\n",
      "Max Geodesic Distance:  33.66419219970703\n",
      "Min Geodesic Distance:  4.000554084777832\n"
     ]
    },
    {
     "data": {
      "image/png": "[encoded data removed]",
      "text/plain": [
       "<Figure size 432x288 with 1 Axes>"
      ]
     },
     "metadata": {
      "needs_background": "light"
     },
     "output_type": "display_data"
    },
    {
     "data": {
      "image/png": "[encoded data removed]",
      "text/plain": [
       "<Figure size 432x288 with 1 Axes>"
      ]
     },
     "metadata": {
      "needs_background": "light"
     },
     "output_type": "display_data"
    },
    {
     "data": {
      "image/png": "[encoded data removed]",
      "text/plain": [
       "<Figure size 432x288 with 1 Axes>"
      ]
     },
     "metadata": {
      "needs_background": "light"
     },
     "output_type": "display_data"
    }
   ],
   "source": [
    "import habitat\n",
    "\n",
    "import numpy as np\n",
    "import random\n",
    "\n",
    "%matplotlib inline\n",
    "import matplotlib.pyplot as plt\n",
    "\n",
    "splits = ['val', 'test']\n",
    "\n",
    "data_path = '../data/datasets/roomnav/mp3d/v1/{split}/{split}.json.gz'\n",
    "\n",
    "for split in splits:\n",
    "    \n",
    "    avg_gd = 0\n",
    "    avg_ed = 0\n",
    "    min_gd = 10000000000\n",
    "    max_gd = 0\n",
    "    min_ed = 10000000000\n",
    "    max_ed = 0\n",
    "    \n",
    "    gd_dists = []\n",
    "    ed_dists = []\n",
    "    gd2ed = []\n",
    "\n",
    "    config = habitat.get_config(config_paths='../configs/tasks/pointnav_roomnav_mp3d.yaml')\n",
    "    config.defrost()\n",
    "    config.DATASET.DATA_PATH = data_path.format(split=split)\n",
    "    config.DATASET.SCENES_DIR = '../data/scene_datasets/'\n",
    "    config.freeze()\n",
    "    \n",
    "    env = habitat.Env(config=config)\n",
    "    \n",
    "    print(len(env.episodes))\n",
    "\n",
    "    for i in range(len(env.episodes)):\n",
    "        observations = env.reset()\n",
    "      \n",
    "        sp = env.current_episode.start_position\n",
    "        tp = env.current_episode.goals[0].position\n",
    "        \n",
    "        gd = env.sim.geodesic_distance(sp, tp)\n",
    "        ed = np.power(np.power(np.array(sp) - np.array(tp), 2).sum(0), 0.5)\n",
    "        \n",
    "        gd2ed.append(gd/ed)\n",
    "        gd_dists.append(gd)\n",
    "        ed_dists.append(ed)\n",
    "\n",
    "    env.close()\n",
    "    \n",
    "    ed_dists = np.asarray(ed_dists)\n",
    "    gd_dists = np.asarray(gd_dists)\n",
    "    gd2ed = np.asarray(gd2ed)\n",
    "    \n",
    "    print('SPLIT: ', split)\n",
    "    print('Average Euclidean Distance: ', np.mean(ed_dists))\n",
    "    print('Max Euclidean Distance: ', np.max(ed_dists))\n",
    "    print('Min Euclidean Distance: ', np.min(ed_dists))\n",
    "    \n",
    "    print('Average Geodesic Distance: ', np.mean(gd_dists))\n",
    "    print('Max Geodesic Distance: ', np.max(gd_dists))\n",
    "    print('Min Geodesic Distance: ', np.min(gd_dists))\n",
    "    \n",
    "    plt.hist(gd_dists.astype(int), bins=int(np.max(gd_dists)))\n",
    "    plt.title(\"Geodesic Distance\")\n",
    "    plt.ylabel('Episodes')\n",
    "    plt.show()\n",
    "\n",
    "    plt.hist(ed_dists.astype(int), bins=int(np.max(ed_dists)))\n",
    "    plt.title(\"Euclidean Distance\")\n",
    "    plt.ylabel('Episodes')\n",
    "    plt.show()\n",
    "    \n",
    "    plt.hist(np.around(gd2ed, decimals=4), bins=100)\n",
    "    plt.title(\"Geodesic to Euclidean Ratio\")\n",
    "    plt.ylabel('Episodes')\n",
    "    plt.show()\n",
    "    "
   ]
  },
  {
   "cell_type": "code",
   "execution_count": 2,
   "metadata": {
    "scrolled": true
   },
   "outputs": [
    {
     "name": "stderr",
     "output_type": "stream",
     "text": [
      "  0%|          | 0/32 [00:00<?, ?it/s]\n",
      "  0%|          | 0/187500 [00:00<?, ?it/s]\u001b[A\n",
      "                                          \u001b[A\n"
     ]
    },
    {
     "ename": "AttributeError",
     "evalue": "'Simulator' object has no attribute 'make_greedy_follower'",
     "output_type": "error",
     "traceback": [
      "\u001b[0;31m---------------------------------------------------------------------------\u001b[0m",
      "\u001b[0;31mAttributeError\u001b[0m                            Traceback (most recent call last)",
      "\u001b[0;32m<ipython-input-2-7f17b48dc4fc>\u001b[0m in \u001b[0;36m<module>\u001b[0;34m\u001b[0m\n\u001b[1;32m     36\u001b[0m             act_path_lens.append(\n\u001b[1;32m     37\u001b[0m                 len(\n\u001b[0;32m---> 38\u001b[0;31m                     sim.make_greedy_follower().find_path(\n\u001b[0m\u001b[1;32m     39\u001b[0m                         \u001b[0mep\u001b[0m\u001b[0;34m[\u001b[0m\u001b[0;34m\"goals\"\u001b[0m\u001b[0;34m]\u001b[0m\u001b[0;34m[\u001b[0m\u001b[0;36m0\u001b[0m\u001b[0;34m]\u001b[0m\u001b[0;34m[\u001b[0m\u001b[0;34m\"position\"\u001b[0m\u001b[0;34m]\u001b[0m\u001b[0;34m\u001b[0m\u001b[0;34m\u001b[0m\u001b[0m\n\u001b[1;32m     40\u001b[0m                     )\n",
      "\u001b[0;31mAttributeError\u001b[0m: 'Simulator' object has no attribute 'make_greedy_follower'"
     ]
    }
   ],
   "source": [
    "'''Oracle Path Lengths'''\n",
    "\n",
    "import habitat_sim\n",
    "import json\n",
    "import gzip\n",
    "from pydash import py_\n",
    "import numpy as np\n",
    "import tqdm\n",
    "import glob\n",
    "\n",
    "splits = ['train', 'test', 'val']\n",
    "\n",
    "data_path = '../data/datasets/roomnav/mp3d/v1/{split}/{split}_all.json.gz'\n",
    "\n",
    "for split in splits:\n",
    "    with gzip.open(data_path.format(split=split), \"rt\") as f:\n",
    "        episodes = json.load(f)[\"episodes\"]\n",
    "\n",
    "    act_path_lens = []\n",
    "    for scene_id, eps in tqdm.tqdm(py_.group_by(episodes, \"scene_id\").items()):\n",
    "        agent_cfg = habitat_sim.AgentConfiguration()\n",
    "        sim_cfg = habitat_sim.SimulatorConfiguration()\n",
    "        sim_cfg.scene.id = scene_id\n",
    "        sim = habitat_sim.Simulator(\n",
    "            habitat_sim.Configuration(sim_cfg, [agent_cfg])\n",
    "        )\n",
    "\n",
    "        for ep in tqdm.tqdm(eps, leave=False):\n",
    "            state = sim.get_agent(0).state\n",
    "            state.position = ep[\"start_position\"]\n",
    "            state.rotation = ep[\"start_rotation\"]\n",
    "            state.sensor_states = dict()\n",
    "\n",
    "            sim.get_agent(0).state = state\n",
    "\n",
    "            act_path_lens.append(\n",
    "                len(\n",
    "                    sim.make_greedy_follower().find_path(\n",
    "                        ep[\"goals\"][0][\"position\"]\n",
    "                    )\n",
    "                )\n",
    "            )\n",
    "\n",
    "\n",
    "    act_path_lens = np.array(act_path_lens)\n",
    "    \n",
    "    print('SPLIT: ', split)\n",
    "    print(\"Min=\", np.min(act_path_lens))\n",
    "    print(\"Mean=\", np.mean(act_path_lens))\n",
    "    print(\"Median=\", np.median(act_path_lens))\n",
    "    print(\"Max=\", np.max(act_path_lens))"
   ]
  },
  {
   "cell_type": "code",
   "execution_count": 2,
   "metadata": {},
   "outputs": [],
   "source": [
    "import os\n",
    "import shutil\n",
    "\n",
    "import cv2\n",
    "import numpy as np\n",
    "\n",
    "import habitat\n",
    "from habitat.tasks.nav.shortest_path_follower import ShortestPathFollower\n",
    "from habitat.utils.visualizations import maps\n",
    "\n",
    "class SimpleRLEnv(habitat.RLEnv):\n",
    "    def get_reward_range(self):\n",
    "        return [-1, 1]\n",
    "\n",
    "    def get_reward(self, observations):\n",
    "        return 0\n",
    "\n",
    "    def get_done(self, observations):\n",
    "        return self.habitat_env.episode_over\n",
    "\n",
    "    def get_info(self, observations):\n",
    "        return self.habitat_env.get_metrics()\n",
    "\n",
    "def get_original_map():\n",
    "        top_down_map = maps.get_topdown_map(\n",
    "            self._sim,\n",
    "            self._map_resolution,\n",
    "            self._num_samples,\n",
    "            self._config.DRAW_BORDER,\n",
    "        )\n",
    "\n",
    "        range_x = np.where(np.any(top_down_map, axis=1))[0]\n",
    "        range_y = np.where(np.any(top_down_map, axis=0))[0]\n",
    "\n",
    "        self._ind_x_min = range_x[0]\n",
    "        self._ind_x_max = range_x[-1]\n",
    "        self._ind_y_min = range_y[0]\n",
    "        self._ind_y_max = range_y[-1]\n",
    "        return top_down_map\n",
    "\n",
    "def draw_source_and_target(top_down_map, episode):\n",
    "    # mark source point\n",
    "    s_x, s_y = maps.to_grid(\n",
    "        episode.start_position[0],\n",
    "        episode.start_position[2],\n",
    "        self._coordinate_min,\n",
    "        self._coordinate_max,\n",
    "        self._map_resolution,\n",
    "    )\n",
    "    point_padding = 2 * int(\n",
    "        np.ceil(self._map_resolution[0] / MAP_THICKNESS_SCALAR)\n",
    "    )\n",
    "    top_down_map[\n",
    "        s_x - point_padding : s_x + point_padding + 1,\n",
    "        s_y - point_padding : s_y + point_padding + 1,\n",
    "    ] = maps.MAP_SOURCE_POINT_INDICATOR\n",
    "\n",
    "    # mark target point\n",
    "    t_x, t_y = maps.to_grid(\n",
    "        episode.goals[0].position[0],\n",
    "        episode.goals[0].position[2],\n",
    "        self._coordinate_min,\n",
    "        self._coordinate_max,\n",
    "        self._map_resolution,\n",
    "    )\n",
    "    top_down_map[\n",
    "        t_x - point_padding : t_x + point_padding + 1,\n",
    "        t_y - point_padding : t_y + point_padding + 1,\n",
    "    ] = maps.MAP_TARGET_POINT_INDICATOR\n",
    "    \n",
    "    return top_down_map\n",
    "    \n",
    "\n",
    "def draw_top_down_map(info, heading, output_size):\n",
    "    top_down_map = maps.colorize_topdown_map(info[\"top_down_map\"][\"map\"])\n",
    "    original_map_size = top_down_map.shape[:2]\n",
    "    map_scale = np.array(\n",
    "        (1, original_map_size[1] * 1.0 / original_map_size[0])\n",
    "    )\n",
    "    new_map_size = np.round(output_size * map_scale).astype(np.int32)\n",
    "    # OpenCV expects w, h but map size is in h, w\n",
    "    top_down_map = cv2.resize(top_down_map, (new_map_size[1], new_map_size[0]))\n",
    "\n",
    "    map_agent_pos = info[\"top_down_map\"][\"agent_map_coord\"]\n",
    "    map_agent_pos = np.round(\n",
    "        map_agent_pos * new_map_size / original_map_size\n",
    "    ).astype(np.int32)\n",
    "    top_down_map = maps.draw_agent(\n",
    "        top_down_map,\n",
    "        map_agent_pos,\n",
    "        heading - np.pi / 2,\n",
    "        agent_radius_px=top_down_map.shape[0] / 40,\n",
    "    )\n",
    "    return top_down_map\n",
    "\n",
    "def shortest_path_example():\n",
    "    \n",
    "    splits = ['train', 'test', 'val']\n",
    "\n",
    "    data_path = '../data/datasets/roomnav/mp3d/v1/{split}/{split}.json.gz'\n",
    "\n",
    "    for split in splits:\n",
    "    \n",
    "        config = habitat.get_config(config_paths=\"configs/tasks/roomnav_mp3d.yaml\")\n",
    "        config.defrost()\n",
    "        config.DATASET.DATA_PATH = data_path.format(split=split)\n",
    "        config.DATASET.SCENES_DIR = '../data/scene_datasets/'\n",
    "        config.TASK.MEASUREMENTS.append(\"TOP_DOWN_MAP\")\n",
    "        config.TASK.SENSORS.append(\"HEADING_SENSOR\")\n",
    "        config.freeze()\n",
    "        \n",
    "        outfile = 'AverageTopDown-{split}'.format(split=split)\n",
    "\n",
    "        env = SimpleRLEnv(config=config)\n",
    "        goal_radius = env.episodes[0].goals[0].radius\n",
    "        if goal_radius is None:\n",
    "            goal_radius = config.SIMULATOR.FORWARD_STEP_SIZE\n",
    "    #     follower = ShortestPathFollower(env.habitat_env.sim, goal_radius, False)\n",
    "    #     follower.mode = mode\n",
    "\n",
    "        print(\"Environment creation successful\")\n",
    "        for episode in range(len(env.episodes)):\n",
    "            observations = env.reset()\n",
    "    #         dirname = os.path.join(\n",
    "    #             IMAGE_DIR, \"shortest_path_example\", mode, \"%02d\" % episode\n",
    "    #         )\n",
    "    #         if os.path.exists(dirname):\n",
    "    #             shutil.rmtree(dirname)\n",
    "    #         os.makedirs(dirname)\n",
    "            \n",
    "            top_down_map =  env.get_info(observations)\n",
    "            \n",
    "            print(top_down_map)\n",
    "#             top_down_map = draw_source_and_target(draw_source_and_target, env.episode)\n",
    "            \n"
   ]
  },
  {
   "cell_type": "code",
   "execution_count": 8,
   "metadata": {},
   "outputs": [
    {
     "data": {
      "image/png": "[encoded data removed]",
      "text/plain": [
       "<Figure size 432x288 with 1 Axes>"
      ]
     },
     "metadata": {
      "needs_background": "light"
     },
     "output_type": "display_data"
    }
   ],
   "source": [
    "plt.hist(gd2ed, bins=600)\n",
    "plt.title(\"Geodesic to Euclidean Ratio\")\n",
    "plt.ylabel('Episodes')\n",
    "plt.show()"
   ]
  },
  {
   "cell_type": "code",
   "execution_count": null,
   "metadata": {},
   "outputs": [],
   "source": []
  }
 ],
 "metadata": {
  "kernelspec": {
   "display_name": "Python 3",
   "language": "python",
   "name": "python3"
  },
  "language_info": {
   "codemirror_mode": {
    "name": "ipython",
    "version": 3
   },
   "file_extension": ".py",
   "mimetype": "text/x-python",
   "name": "python",
   "nbconvert_exporter": "python",
   "pygments_lexer": "ipython3",
   "version": "3.6.8"
  }
 },
 "nbformat": 4,
 "nbformat_minor": 2
}

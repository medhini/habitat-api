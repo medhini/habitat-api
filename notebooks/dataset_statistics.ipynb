{
 "cells": [
  {
   "cell_type": "markdown",
   "metadata": {},
   "source": [
    "# Obtaining Statistics of the RoomNav dataset"
   ]
  },
  {
   "cell_type": "markdown",
   "metadata": {},
   "source": [
    "1. Average Geodesic Distances\n",
    "2. Histogram of distances vs episodes\n",
    "3. Average of top-down maps\n",
    "4. Lenght of oracle"
   ]
  },
  {
   "cell_type": "code",
   "execution_count": null,
   "metadata": {},
   "outputs": [
    {
     "name": "stderr",
     "output_type": "stream",
     "text": [
      "2019-07-01 09:14:21,377 initializing sim Sim-v0\n",
      "I0701 09:14:21.444161 30451 simulator.py:78] Loaded navmesh /private/home/medhini/navigation-analysis-habitat/habitat-api/data/scene_datasets/mp3d/17DRP5sb8fy/17DRP5sb8fy.navmesh\n",
      "2019-07-01 09:14:24,154 initializing task Nav-v0\n",
      "I0701 09:18:55.967193 30451 simulator.py:78] Loaded navmesh /private/home/medhini/navigation-analysis-habitat/habitat-api/data/scene_datasets/mp3d/1pXnuDYAj8r/1pXnuDYAj8r.navmesh\n"
     ]
    }
   ],
   "source": [
    "import habitat\n",
    "\n",
    "import numpy as np\n",
    "import random\n",
    "\n",
    "%matplotlib inline\n",
    "import matplotlib.pyplot as plt\n",
    "\n",
    "splits = ['train']\n",
    "\n",
    "data_path = '../data/datasets/roomnav/mp3d/v1/{split}/{split}.json.gz'\n",
    "\n",
    "for split in splits:\n",
    "    \n",
    "    avg_gd = 0\n",
    "    avg_ed = 0\n",
    "    min_gd = 10000000000\n",
    "    max_gd = 0\n",
    "    min_ed = 10000000000\n",
    "    max_ed = 0\n",
    "    \n",
    "    gd_dists = []\n",
    "    ed_dists = []\n",
    "    gd2ed = []\n",
    "\n",
    "    config = habitat.get_config(config_paths='../configs/tasks/roomnav_mp3d.yaml')\n",
    "    config.defrost()\n",
    "    config.DATASET.DATA_PATH = data_path.format(split=split)\n",
    "    config.DATASET.SCENES_DIR = '../data/scene_datasets/'\n",
    "    config.freeze()\n",
    "    \n",
    "    env = habitat.Env(config=config)\n",
    "\n",
    "    for i in range(len(env.episodes)):\n",
    "        observations = env.reset()\n",
    "      \n",
    "        sp = env.episodes[i].start_position\n",
    "        tp = env.episodes[i].goals[0].position\n",
    "        \n",
    "        gd = env.sim.geodesic_distance(sp, tp)\n",
    "        ed = np.power(np.power(np.array(sp) - np.array(tp), 2).sum(0), 0.5)\n",
    "        \n",
    "        gd2ed.append(gd/ed)\n",
    "        gd_dists.append(gd)\n",
    "        ed_dists.append(ed)\n",
    "\n",
    "    env.close()\n",
    "    \n",
    "    ed_dists = np.asarray(ed_dists)\n",
    "    gd_dists = np.asarray(gd_dists)\n",
    "    gd2ed = np.asarray(gd2ed)\n",
    "    \n",
    "    print('SPLIT: ', split)\n",
    "    print('Average Euclidean Distance: ', np.mean(ed_dists))\n",
    "    print('Max Euclidean Distance: ', np.max(ed_dists))\n",
    "    print('Min Euclidean Distance: ', np.min(ed_dists))\n",
    "    \n",
    "    print('Average Geodesic Distance: ', np.mean(gd_dists))\n",
    "    print('Max Geodesic Distance: ', np.max(gd_dists))\n",
    "    print('Min Geodesic Distance: ', np.min(gd_dists))\n",
    "    \n",
    "    plt.hist(gd_dists.astype(int), bins=int(np.max(gd_dists)))\n",
    "    plt.title(\"Geodesic Distance\")\n",
    "    plt.ylabel('Episodes')\n",
    "    plt.show()\n",
    "\n",
    "    plt.hist(ed_dists.astype(int), bins=int(np.max(ed_dists)))\n",
    "    plt.title(\"Euclidean Distance\")\n",
    "    plt.ylabel('Episodes')\n",
    "    plt.show()\n",
    "    \n",
    "    plt.hist(np.around(gd2ed, decimals=4), bins=100)\n",
    "    plt.title(\"Geodesic to Euclidean Ratio\")\n",
    "    plt.ylabel('Episodes')\n",
    "    plt.show()"
   ]
  },
  {
   "cell_type": "code",
   "execution_count": 1,
   "metadata": {
    "scrolled": false
   },
   "outputs": [
    {
     "name": "stderr",
     "output_type": "stream",
     "text": [
      "2019-06-28 12:08:06,285 initializing sim Sim-v0\n",
      "I0628 12:08:06.341400 37193 simulator.py:78] Loaded navmesh /private/home/medhini/navigation-analysis-habitat/habitat-api/data/scene_datasets/mp3d/17DRP5sb8fy/17DRP5sb8fy.navmesh\n",
      "2019-06-28 12:08:09,002 initializing task Nav-v0\n",
      "I0628 12:12:24.439869 37193 simulator.py:78] Loaded navmesh /private/home/medhini/navigation-analysis-habitat/habitat-api/data/scene_datasets/mp3d/1pXnuDYAj8r/1pXnuDYAj8r.navmesh\n",
      "I0628 12:21:33.820772 37193 simulator.py:78] Loaded navmesh /private/home/medhini/navigation-analysis-habitat/habitat-api/data/scene_datasets/mp3d/29hnd4uzFmX/29hnd4uzFmX.navmesh\n",
      "I0628 12:25:54.895175 37193 simulator.py:78] Loaded navmesh /private/home/medhini/navigation-analysis-habitat/habitat-api/data/scene_datasets/mp3d/5LpN3gDmAk7/5LpN3gDmAk7.navmesh\n",
      "I0628 12:31:12.286031 37193 simulator.py:78] Loaded navmesh /private/home/medhini/navigation-analysis-habitat/habitat-api/data/scene_datasets/mp3d/759xd9YjKW5/759xd9YjKW5.navmesh\n",
      "I0628 12:36:50.030179 37193 simulator.py:78] Loaded navmesh /private/home/medhini/navigation-analysis-habitat/habitat-api/data/scene_datasets/mp3d/82sE5b5pLXE/82sE5b5pLXE.navmesh\n",
      "I0628 12:41:51.267746 37193 simulator.py:78] Loaded navmesh /private/home/medhini/navigation-analysis-habitat/habitat-api/data/scene_datasets/mp3d/8WUmhLawc2A/8WUmhLawc2A.navmesh\n",
      "I0628 13:12:37.970338 37193 simulator.py:78] Loaded navmesh /private/home/medhini/navigation-analysis-habitat/habitat-api/data/scene_datasets/mp3d/EDJbREhghzL/EDJbREhghzL.navmesh\n",
      "I0628 13:18:52.555479 37193 simulator.py:78] Loaded navmesh /private/home/medhini/navigation-analysis-habitat/habitat-api/data/scene_datasets/mp3d/GdvgFV5R1Z5/GdvgFV5R1Z5.navmesh\n",
      "I0628 13:22:36.965612 37193 simulator.py:78] Loaded navmesh /private/home/medhini/navigation-analysis-habitat/habitat-api/data/scene_datasets/mp3d/HxpKQynjfin/HxpKQynjfin.navmesh\n",
      "I0628 13:26:41.472220 37193 simulator.py:78] Loaded navmesh /private/home/medhini/navigation-analysis-habitat/habitat-api/data/scene_datasets/mp3d/JF19kD82Mey/JF19kD82Mey.navmesh\n",
      "I0628 13:31:17.643889 37193 simulator.py:78] Loaded navmesh /private/home/medhini/navigation-analysis-habitat/habitat-api/data/scene_datasets/mp3d/JeFG25nYj2p/JeFG25nYj2p.navmesh\n",
      "I0628 13:36:49.171128 37193 simulator.py:78] Loaded navmesh /private/home/medhini/navigation-analysis-habitat/habitat-api/data/scene_datasets/mp3d/JmbYfDe2QKZ/JmbYfDe2QKZ.navmesh\n",
      "I0628 13:42:57.490260 37193 simulator.py:78] Loaded navmesh /private/home/medhini/navigation-analysis-habitat/habitat-api/data/scene_datasets/mp3d/S9hNv5qa7GM/S9hNv5qa7GM.navmesh\n",
      "I0628 13:49:14.166355 37193 simulator.py:78] Loaded navmesh /private/home/medhini/navigation-analysis-habitat/habitat-api/data/scene_datasets/mp3d/ULsKaCPVFJR/ULsKaCPVFJR.navmesh\n",
      "I0628 13:55:20.255139 37193 simulator.py:78] Loaded navmesh /private/home/medhini/navigation-analysis-habitat/habitat-api/data/scene_datasets/mp3d/Uxmj2M2itWa/Uxmj2M2itWa.navmesh\n",
      "I0628 13:59:45.083498 37193 simulator.py:78] Loaded navmesh /private/home/medhini/navigation-analysis-habitat/habitat-api/data/scene_datasets/mp3d/Vvot9Ly1tCj/Vvot9Ly1tCj.navmesh\n",
      "I0628 14:04:32.681733 37193 simulator.py:78] Loaded navmesh /private/home/medhini/navigation-analysis-habitat/habitat-api/data/scene_datasets/mp3d/VzqfbhrpDEA/VzqfbhrpDEA.navmesh\n",
      "I0628 15:48:57.279051 37193 simulator.py:78] Loaded navmesh /private/home/medhini/navigation-analysis-habitat/habitat-api/data/scene_datasets/mp3d/aayBHfsNo7d/aayBHfsNo7d.navmesh\n",
      "I0628 15:54:13.154115 37193 simulator.py:78] Loaded navmesh /private/home/medhini/navigation-analysis-habitat/habitat-api/data/scene_datasets/mp3d/ac26ZMwG7aT/ac26ZMwG7aT.navmesh\n",
      "I0628 16:00:30.575954 37193 simulator.py:78] Loaded navmesh /private/home/medhini/navigation-analysis-habitat/habitat-api/data/scene_datasets/mp3d/b8cTxDM8gDG/b8cTxDM8gDG.navmesh\n",
      "I0628 16:06:12.808106 37193 simulator.py:78] Loaded navmesh /private/home/medhini/navigation-analysis-habitat/habitat-api/data/scene_datasets/mp3d/cV4RVeZvu5T/cV4RVeZvu5T.navmesh\n",
      "I0628 16:11:29.963803 37193 simulator.py:78] Loaded navmesh /private/home/medhini/navigation-analysis-habitat/habitat-api/data/scene_datasets/mp3d/i5noydFURQK/i5noydFURQK.navmesh\n",
      "I0628 16:16:15.536537 37193 simulator.py:78] Loaded navmesh /private/home/medhini/navigation-analysis-habitat/habitat-api/data/scene_datasets/mp3d/jh4fc5c5qoQ/jh4fc5c5qoQ.navmesh\n",
      "I0628 16:20:35.364692 37193 simulator.py:78] Loaded navmesh /private/home/medhini/navigation-analysis-habitat/habitat-api/data/scene_datasets/mp3d/kEZ7cmS4wCh/kEZ7cmS4wCh.navmesh\n",
      "I0628 16:27:22.373875 37193 simulator.py:78] Loaded navmesh /private/home/medhini/navigation-analysis-habitat/habitat-api/data/scene_datasets/mp3d/mJXqzFtmKg4/mJXqzFtmKg4.navmesh\n",
      "I0628 16:34:46.483315 37193 simulator.py:78] Loaded navmesh /private/home/medhini/navigation-analysis-habitat/habitat-api/data/scene_datasets/mp3d/qoiz87JEwZ2/qoiz87JEwZ2.navmesh\n",
      "I0628 16:40:00.370994 37193 simulator.py:78] Loaded navmesh /private/home/medhini/navigation-analysis-habitat/habitat-api/data/scene_datasets/mp3d/r1Q1Z4BcV1o/r1Q1Z4BcV1o.navmesh\n",
      "I0628 16:48:12.004393 37193 simulator.py:78] Loaded navmesh /private/home/medhini/navigation-analysis-habitat/habitat-api/data/scene_datasets/mp3d/rPc6DW4iMge/rPc6DW4iMge.navmesh\n",
      "I0628 16:54:05.744771 37193 simulator.py:78] Loaded navmesh /private/home/medhini/navigation-analysis-habitat/habitat-api/data/scene_datasets/mp3d/sT4fr6TAbpF/sT4fr6TAbpF.navmesh\n",
      "I0628 16:58:47.611788 37193 simulator.py:78] Loaded navmesh /private/home/medhini/navigation-analysis-habitat/habitat-api/data/scene_datasets/mp3d/uNb9QFRL6hY/uNb9QFRL6hY.navmesh\n",
      "I0628 17:08:31.102273 37193 simulator.py:78] Loaded navmesh /private/home/medhini/navigation-analysis-habitat/habitat-api/data/scene_datasets/mp3d/vyrNrziPKCB/vyrNrziPKCB.navmesh\n"
     ]
    },
    {
     "name": "stdout",
     "output_type": "stream",
     "text": [
      "SPLIT:  train\n",
      "Average Euclidean Distance:  9.424112184230676\n",
      "Max Euclidean Distance:  41.25288118820092\n",
      "Min Euclidean Distance:  1.0436555147681024\n",
      "Average Geodesic Distance:  12.866500911093395\n",
      "Max Geodesic Distance:  44.9988899230957\n",
      "Min Geodesic Distance:  1.087912917137146\n"
     ]
    },
    {
     "data": {
      "image/png": "[encoded data removed]",
      "text/plain": [
       "<Figure size 432x288 with 1 Axes>"
      ]
     },
     "metadata": {
      "needs_background": "light"
     },
     "output_type": "display_data"
    },
    {
     "data": {
      "image/png": "[encoded data removed]",
      "text/plain": [
       "<Figure size 432x288 with 1 Axes>"
      ]
     },
     "metadata": {
      "needs_background": "light"
     },
     "output_type": "display_data"
    },
    {
     "data": {
      "image/png": "[encoded data removed]",
      "text/plain": [
       "<Figure size 432x288 with 1 Axes>"
      ]
     },
     "metadata": {
      "needs_background": "light"
     },
     "output_type": "display_data"
    },
    {
     "name": "stderr",
     "output_type": "stream",
     "text": [
      "2019-06-28 17:17:56,041 initializing sim Sim-v0\n",
      "I0628 17:17:56.047653 37193 simulator.py:78] Loaded navmesh /private/home/medhini/navigation-analysis-habitat/habitat-api/data/scene_datasets/mp3d/2t7WUuJeko7/2t7WUuJeko7.navmesh\n",
      "2019-06-28 17:17:58,057 initializing task Nav-v0\n",
      "I0628 17:18:01.935314 37193 simulator.py:78] Loaded navmesh /private/home/medhini/navigation-analysis-habitat/habitat-api/data/scene_datasets/mp3d/5ZKStnWn8Zo/5ZKStnWn8Zo.navmesh\n",
      "I0628 17:18:10.272770 37193 simulator.py:78] Loaded navmesh /private/home/medhini/navigation-analysis-habitat/habitat-api/data/scene_datasets/mp3d/ARNzJeq3xxb/ARNzJeq3xxb.navmesh\n",
      "I0628 17:18:14.864901 37193 simulator.py:78] Loaded navmesh /private/home/medhini/navigation-analysis-habitat/habitat-api/data/scene_datasets/mp3d/RPmz2sHmrrY/RPmz2sHmrrY.navmesh\n",
      "I0628 17:18:17.144982 37193 simulator.py:78] Loaded navmesh /private/home/medhini/navigation-analysis-habitat/habitat-api/data/scene_datasets/mp3d/WYY7iVyf5p8/WYY7iVyf5p8.navmesh\n",
      "I0628 17:18:20.830517 37193 simulator.py:78] Loaded navmesh /private/home/medhini/navigation-analysis-habitat/habitat-api/data/scene_datasets/mp3d/YFuZgdQ5vWj/YFuZgdQ5vWj.navmesh\n",
      "I0628 17:18:24.655245 37193 simulator.py:78] Loaded navmesh /private/home/medhini/navigation-analysis-habitat/habitat-api/data/scene_datasets/mp3d/YVUC4YcDtcY/YVUC4YcDtcY.navmesh\n",
      "I0628 17:18:27.942015 37193 simulator.py:78] Loaded navmesh /private/home/medhini/navigation-analysis-habitat/habitat-api/data/scene_datasets/mp3d/jtcxE69GiFV/jtcxE69GiFV.navmesh\n",
      "I0628 17:18:36.856380 37193 simulator.py:78] Loaded navmesh /private/home/medhini/navigation-analysis-habitat/habitat-api/data/scene_datasets/mp3d/q9vSo1VnCiC/q9vSo1VnCiC.navmesh\n",
      "I0628 17:18:42.532732 37193 simulator.py:78] Loaded navmesh /private/home/medhini/navigation-analysis-habitat/habitat-api/data/scene_datasets/mp3d/wc2JMjhGNzB/wc2JMjhGNzB.navmesh\n"
     ]
    },
    {
     "name": "stdout",
     "output_type": "stream",
     "text": [
      "SPLIT:  test\n",
      "Average Euclidean Distance:  7.95877540334064\n",
      "Max Euclidean Distance:  25.24242107813698\n",
      "Min Euclidean Distance:  1.0767518841308643\n",
      "Average Geodesic Distance:  10.147436985969543\n",
      "Max Geodesic Distance:  33.08501434326172\n",
      "Min Geodesic Distance:  1.0767518281936646\n"
     ]
    },
    {
     "data": {
      "image/png": "[encoded data removed]",
      "text/plain": [
       "<Figure size 432x288 with 1 Axes>"
      ]
     },
     "metadata": {
      "needs_background": "light"
     },
     "output_type": "display_data"
    },
    {
     "data": {
      "image/png": "[encoded data removed]",
      "text/plain": [
       "<Figure size 432x288 with 1 Axes>"
      ]
     },
     "metadata": {
      "needs_background": "light"
     },
     "output_type": "display_data"
    },
    {
     "data": {
      "image/png": "[encoded data removed]",
      "text/plain": [
       "<Figure size 432x288 with 1 Axes>"
      ]
     },
     "metadata": {
      "needs_background": "light"
     },
     "output_type": "display_data"
    },
    {
     "name": "stderr",
     "output_type": "stream",
     "text": [
      "2019-06-28 17:18:54,241 initializing sim Sim-v0\n",
      "I0628 17:18:54.246066 37193 simulator.py:78] Loaded navmesh /private/home/medhini/navigation-analysis-habitat/habitat-api/data/scene_datasets/mp3d/2azQ1b91cZZ/2azQ1b91cZZ.navmesh\n",
      "2019-06-28 17:19:03,008 initializing task Nav-v0\n",
      "I0628 17:19:03.387942 37193 simulator.py:78] Loaded navmesh /private/home/medhini/navigation-analysis-habitat/habitat-api/data/scene_datasets/mp3d/X7HyMhZNoso/X7HyMhZNoso.navmesh\n",
      "I0628 17:19:09.101912 37193 simulator.py:78] Loaded navmesh /private/home/medhini/navigation-analysis-habitat/habitat-api/data/scene_datasets/mp3d/oLBMNvg9in8/oLBMNvg9in8.navmesh\n",
      "I0628 17:19:16.892322 37193 simulator.py:78] Loaded navmesh /private/home/medhini/navigation-analysis-habitat/habitat-api/data/scene_datasets/mp3d/zsNo4HB9uLZ/zsNo4HB9uLZ.navmesh\n"
     ]
    },
    {
     "name": "stdout",
     "output_type": "stream",
     "text": [
      "SPLIT:  val\n",
      "Average Euclidean Distance:  7.604264005851569\n",
      "Max Euclidean Distance:  24.63578351874011\n",
      "Min Euclidean Distance:  2.01844041346114\n",
      "Average Geodesic Distance:  10.588081526756287\n",
      "Max Geodesic Distance:  35.69606399536133\n",
      "Min Geodesic Distance:  2.7277469635009766\n"
     ]
    },
    {
     "data": {
      "image/png": "[encoded data removed]",
      "text/plain": [
       "<Figure size 432x288 with 1 Axes>"
      ]
     },
     "metadata": {
      "needs_background": "light"
     },
     "output_type": "display_data"
    },
    {
     "data": {
      "image/png": "[encoded data removed]",
      "text/plain": [
       "<Figure size 432x288 with 1 Axes>"
      ]
     },
     "metadata": {
      "needs_background": "light"
     },
     "output_type": "display_data"
    },
    {
     "data": {
      "image/png": "[encoded data removed]",
      "text/plain": [
       "<Figure size 432x288 with 1 Axes>"
      ]
     },
     "metadata": {
      "needs_background": "light"
     },
     "output_type": "display_data"
    }
   ],
   "source": [
    "import habitat\n",
    "\n",
    "import numpy as np\n",
    "import random\n",
    "\n",
    "%matplotlib inline\n",
    "import matplotlib.pyplot as plt\n",
    "\n",
    "splits = ['train', 'test', 'val']\n",
    "\n",
    "data_path = '../data/datasets/roomnav/mp3d/v1/{split}/{split}.json.gz'\n",
    "\n",
    "for split in splits:\n",
    "    \n",
    "    avg_gd = 0\n",
    "    avg_ed = 0\n",
    "    min_gd = 10000000000\n",
    "    max_gd = 0\n",
    "    min_ed = 10000000000\n",
    "    max_ed = 0\n",
    "    \n",
    "    gd_dists = []\n",
    "    ed_dists = []\n",
    "    gd2ed = []\n",
    "\n",
    "    config = habitat.get_config(config_paths='../configs/tasks/roomnav_mp3d.yaml')\n",
    "    config.defrost()\n",
    "    config.DATASET.DATA_PATH = data_path.format(split=split)\n",
    "    config.DATASET.SCENES_DIR = '../data/scene_datasets/'\n",
    "    config.freeze()\n",
    "    \n",
    "    env = habitat.Env(config=config)\n",
    "\n",
    "    for i in range(len(env.episodes)):\n",
    "        observations = env.reset()\n",
    "      \n",
    "        sp = env.episodes[i].start_position\n",
    "        tp = env.episodes[i].goals[0].position\n",
    "        \n",
    "        gd = env.sim.geodesic_distance(sp, tp)\n",
    "        ed = np.power(np.power(np.array(sp) - np.array(tp), 2).sum(0), 0.5)\n",
    "        \n",
    "        gd2ed.append(gd/ed)\n",
    "        gd_dists.append(gd)\n",
    "        ed_dists.append(ed)\n",
    "\n",
    "    env.close()\n",
    "    \n",
    "    ed_dists = np.asarray(ed_dists)\n",
    "    gd_dists = np.asarray(gd_dists)\n",
    "    gd2ed = np.asarray(gd2ed)\n",
    "    \n",
    "    print('SPLIT: ', split)\n",
    "    print('Average Euclidean Distance: ', np.mean(ed_dists))\n",
    "    print('Max Euclidean Distance: ', np.max(ed_dists))\n",
    "    print('Min Euclidean Distance: ', np.min(ed_dists))\n",
    "    \n",
    "    print('Average Geodesic Distance: ', np.mean(gd_dists))\n",
    "    print('Max Geodesic Distance: ', np.max(gd_dists))\n",
    "    print('Min Geodesic Distance: ', np.min(gd_dists))\n",
    "    \n",
    "    plt.hist(gd_dists.astype(int), bins=int(np.max(gd_dists)))\n",
    "    plt.title(\"Geodesic Distance\")\n",
    "    plt.ylabel('Episodes')\n",
    "    plt.show()\n",
    "\n",
    "    plt.hist(ed_dists.astype(int), bins=int(np.max(ed_dists)))\n",
    "    plt.title(\"Euclidean Distance\")\n",
    "    plt.ylabel('Episodes')\n",
    "    plt.show()\n",
    "    \n",
    "    plt.hist(np.around(gd2ed, decimals=4), bins=50)\n",
    "    plt.title(\"Geodesic to Euclidean Ratio\")\n",
    "    plt.ylabel('Episodes')\n",
    "    plt.show()\n",
    "    "
   ]
  },
  {
   "cell_type": "code",
   "execution_count": 2,
   "metadata": {
    "scrolled": true
   },
   "outputs": [
    {
     "name": "stderr",
     "output_type": "stream",
     "text": [
      "  0%|          | 0/32 [00:00<?, ?it/s]\n",
      "  0%|          | 0/187500 [00:00<?, ?it/s]\u001b[A\n",
      "                                          \u001b[A\n"
     ]
    },
    {
     "ename": "AttributeError",
     "evalue": "'Simulator' object has no attribute 'make_greedy_follower'",
     "output_type": "error",
     "traceback": [
      "\u001b[0;31m---------------------------------------------------------------------------\u001b[0m",
      "\u001b[0;31mAttributeError\u001b[0m                            Traceback (most recent call last)",
      "\u001b[0;32m<ipython-input-2-7f17b48dc4fc>\u001b[0m in \u001b[0;36m<module>\u001b[0;34m\u001b[0m\n\u001b[1;32m     36\u001b[0m             act_path_lens.append(\n\u001b[1;32m     37\u001b[0m                 len(\n\u001b[0;32m---> 38\u001b[0;31m                     sim.make_greedy_follower().find_path(\n\u001b[0m\u001b[1;32m     39\u001b[0m                         \u001b[0mep\u001b[0m\u001b[0;34m[\u001b[0m\u001b[0;34m\"goals\"\u001b[0m\u001b[0;34m]\u001b[0m\u001b[0;34m[\u001b[0m\u001b[0;36m0\u001b[0m\u001b[0;34m]\u001b[0m\u001b[0;34m[\u001b[0m\u001b[0;34m\"position\"\u001b[0m\u001b[0;34m]\u001b[0m\u001b[0;34m\u001b[0m\u001b[0;34m\u001b[0m\u001b[0m\n\u001b[1;32m     40\u001b[0m                     )\n",
      "\u001b[0;31mAttributeError\u001b[0m: 'Simulator' object has no attribute 'make_greedy_follower'"
     ]
    }
   ],
   "source": [
    "'''Oracle Path Lengths'''\n",
    "\n",
    "import habitat_sim\n",
    "import json\n",
    "import gzip\n",
    "from pydash import py_\n",
    "import numpy as np\n",
    "import tqdm\n",
    "import glob\n",
    "\n",
    "splits = ['train', 'test', 'val']\n",
    "\n",
    "data_path = '../data/datasets/roomnav/mp3d/v1/{split}/{split}_all.json.gz'\n",
    "\n",
    "for split in splits:\n",
    "    with gzip.open(data_path.format(split=split), \"rt\") as f:\n",
    "        episodes = json.load(f)[\"episodes\"]\n",
    "\n",
    "    act_path_lens = []\n",
    "    for scene_id, eps in tqdm.tqdm(py_.group_by(episodes, \"scene_id\").items()):\n",
    "        agent_cfg = habitat_sim.AgentConfiguration()\n",
    "        sim_cfg = habitat_sim.SimulatorConfiguration()\n",
    "        sim_cfg.scene.id = scene_id\n",
    "        sim = habitat_sim.Simulator(\n",
    "            habitat_sim.Configuration(sim_cfg, [agent_cfg])\n",
    "        )\n",
    "\n",
    "        for ep in tqdm.tqdm(eps, leave=False):\n",
    "            state = sim.get_agent(0).state\n",
    "            state.position = ep[\"start_position\"]\n",
    "            state.rotation = ep[\"start_rotation\"]\n",
    "            state.sensor_states = dict()\n",
    "\n",
    "            sim.get_agent(0).state = state\n",
    "\n",
    "            act_path_lens.append(\n",
    "                len(\n",
    "                    sim.make_greedy_follower().find_path(\n",
    "                        ep[\"goals\"][0][\"position\"]\n",
    "                    )\n",
    "                )\n",
    "            )\n",
    "\n",
    "\n",
    "    act_path_lens = np.array(act_path_lens)\n",
    "    \n",
    "    print('SPLIT: ', split)\n",
    "    print(\"Min=\", np.min(act_path_lens))\n",
    "    print(\"Mean=\", np.mean(act_path_lens))\n",
    "    print(\"Median=\", np.median(act_path_lens))\n",
    "    print(\"Max=\", np.max(act_path_lens))"
   ]
  },
  {
   "cell_type": "code",
   "execution_count": 2,
   "metadata": {},
   "outputs": [],
   "source": [
    "import os\n",
    "import shutil\n",
    "\n",
    "import cv2\n",
    "import numpy as np\n",
    "\n",
    "import habitat\n",
    "from habitat.tasks.nav.shortest_path_follower import ShortestPathFollower\n",
    "from habitat.utils.visualizations import maps\n",
    "\n",
    "class SimpleRLEnv(habitat.RLEnv):\n",
    "    def get_reward_range(self):\n",
    "        return [-1, 1]\n",
    "\n",
    "    def get_reward(self, observations):\n",
    "        return 0\n",
    "\n",
    "    def get_done(self, observations):\n",
    "        return self.habitat_env.episode_over\n",
    "\n",
    "    def get_info(self, observations):\n",
    "        return self.habitat_env.get_metrics()\n",
    "\n",
    "\n",
    "def draw_top_down_map(info, heading, output_size):\n",
    "    top_down_map = maps.colorize_topdown_map(info[\"top_down_map\"][\"map\"])\n",
    "    original_map_size = top_down_map.shape[:2]\n",
    "    map_scale = np.array(\n",
    "        (1, original_map_size[1] * 1.0 / original_map_size[0])\n",
    "    )\n",
    "    new_map_size = np.round(output_size * map_scale).astype(np.int32)\n",
    "    # OpenCV expects w, h but map size is in h, w\n",
    "    top_down_map = cv2.resize(top_down_map, (new_map_size[1], new_map_size[0]))\n",
    "\n",
    "    map_agent_pos = info[\"top_down_map\"][\"agent_map_coord\"]\n",
    "    map_agent_pos = np.round(\n",
    "        map_agent_pos * new_map_size / original_map_size\n",
    "    ).astype(np.int32)\n",
    "    top_down_map = maps.draw_agent(\n",
    "        top_down_map,\n",
    "        map_agent_pos,\n",
    "        heading - np.pi / 2,\n",
    "        agent_radius_px=top_down_map.shape[0] / 40,\n",
    "    )\n",
    "    return top_down_map\n",
    "\n",
    "\n",
    "def shortest_path_example():\n",
    "    \n",
    "    splits = ['train', 'test', 'val']\n",
    "\n",
    "    data_path = '../data/datasets/roomnav/mp3d/v1/{split}/{split}.json.gz'\n",
    "\n",
    "    for split in splits:\n",
    "    \n",
    "        config = habitat.get_config(config_paths=\"configs/tasks/roomnav_mp3d.yaml\")\n",
    "        config.defrost()\n",
    "        config.DATASET.DATA_PATH = data_path.format(split=split)\n",
    "        config.DATASET.SCENES_DIR = '../data/scene_datasets/'\n",
    "        config.TASK.MEASUREMENTS.append(\"TOP_DOWN_MAP\")\n",
    "        config.TASK.SENSORS.append(\"HEADING_SENSOR\")\n",
    "        config.freeze()\n",
    "        \n",
    "        outfile = 'AverageTopDown-{split}'.format(split=split)\n",
    "\n",
    "        env = SimpleRLEnv(config=config)\n",
    "        goal_radius = env.episodes[0].goals[0].radius\n",
    "        if goal_radius is None:\n",
    "            goal_radius = config.SIMULATOR.FORWARD_STEP_SIZE\n",
    "    #     follower = ShortestPathFollower(env.habitat_env.sim, goal_radius, False)\n",
    "    #     follower.mode = mode\n",
    "\n",
    "        print(\"Environment creation successful\")\n",
    "        for episode in range(len(env.episodes)):\n",
    "            observations = env.reset()\n",
    "    #         dirname = os.path.join(\n",
    "    #             IMAGE_DIR, \"shortest_path_example\", mode, \"%02d\" % episode\n",
    "    #         )\n",
    "    #         if os.path.exists(dirname):\n",
    "    #             shutil.rmtree(dirname)\n",
    "    #         os.makedirs(dirname)\n",
    "            \n",
    "            im =  env.get_info(observations)  \n",
    "#             print(\"Agent stepping around inside environment.\")\n",
    "#             images = []\n",
    "#             while not env.habitat_env.episode_over:\n",
    "#                 best_action = follower.get_next_action(\n",
    "#                     env.habitat_env.current_episode.goals[0].position\n",
    "#                 )\n",
    "#                 observations, reward, done, info = env.step(best_action)\n",
    "#                 im = observations[\"rgb\"]\n",
    "#                 top_down_map = draw_top_down_map(\n",
    "#                     info, observations[\"heading\"], im.shape[0]\n",
    "#                 )\n",
    "#                 output_im = np.concatenate((im, top_down_map), axis=1)\n",
    "#                 images.append(output_im)\n",
    "#             images_to_video(images, dirname, \"trajectory\")\n",
    "#             print(\"Episode finished\")\n"
   ]
  },
  {
   "cell_type": "code",
   "execution_count": 8,
   "metadata": {},
   "outputs": [
    {
     "data": {
      "image/png": "[encoded data removed]",
      "text/plain": [
       "<Figure size 432x288 with 1 Axes>"
      ]
     },
     "metadata": {
      "needs_background": "light"
     },
     "output_type": "display_data"
    }
   ],
   "source": [
    "plt.hist(gd2ed, bins=600)\n",
    "plt.title(\"Geodesic to Euclidean Ratio\")\n",
    "plt.ylabel('Episodes')\n",
    "plt.show()"
   ]
  },
  {
   "cell_type": "code",
   "execution_count": null,
   "metadata": {},
   "outputs": [],
   "source": []
  }
 ],
 "metadata": {
  "kernelspec": {
   "display_name": "Python 3",
   "language": "python",
   "name": "python3"
  },
  "language_info": {
   "codemirror_mode": {
    "name": "ipython",
    "version": 3
   },
   "file_extension": ".py",
   "mimetype": "text/x-python",
   "name": "python",
   "nbconvert_exporter": "python",
   "pygments_lexer": "ipython3",
   "version": "3.6.8"
  }
 },
 "nbformat": 4,
 "nbformat_minor": 2
}

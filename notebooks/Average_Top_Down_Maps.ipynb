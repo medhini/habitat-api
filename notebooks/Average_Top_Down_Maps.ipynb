{
 "cells": [
  {
   "cell_type": "code",
   "execution_count": 1,
   "metadata": {},
   "outputs": [],
   "source": [
    "import habitat\n",
    "import os\n",
    "import shutil\n",
    "\n",
    "%matplotlib inline\n",
    "import matplotlib.pyplot as plt\n",
    "from PIL import Image\n",
    "import numpy as np\n",
    "\n",
    "import habitat\n",
    "from habitat.tasks.nav.shortest_path_follower import ShortestPathFollower\n",
    "from habitat.utils.visualizations import maps"
   ]
  },
  {
   "cell_type": "code",
   "execution_count": 2,
   "metadata": {},
   "outputs": [],
   "source": [
    "class SimpleRLEnv(habitat.RLEnv):\n",
    "    def get_reward_range(self):\n",
    "        return [-1, 1]\n",
    "\n",
    "    def get_reward(self, observations):\n",
    "        return 0\n",
    "\n",
    "    def get_done(self, observations):\n",
    "        return self.habitat_env.episode_over\n",
    "\n",
    "    def get_info(self, observations):\n",
    "        return self.habitat_env.get_metrics()"
   ]
  },
  {
   "cell_type": "code",
   "execution_count": 3,
   "metadata": {},
   "outputs": [],
   "source": [
    "def plot_point(episode, point):\n",
    "    \n",
    "    top_down_map = maps.get_topdown_map(env._env.sim)\n",
    "    \n",
    "    MAP_THICKNESS_SCALAR = 1250\n",
    "    if point == 'start':\n",
    "        s_x, s_y = maps.to_grid(\n",
    "        episode.start_position[0],\n",
    "        episode.start_position[2],\n",
    "        maps.COORDINATE_MIN,\n",
    "        maps.COORDINATE_MAX,\n",
    "        (1250, 1250),\n",
    "        )\n",
    "        point_padding = 1 * int(\n",
    "            np.ceil(top_down_map.shape[0] / MAP_THICKNESS_SCALAR)\n",
    "        )\n",
    "#         print(\"COORDINATES RANGE:\", maps.COORDINATE_MIN, maps.COORDINATE_MAX)\n",
    "#         print(\"MAP_RESOLUTION:\", 1250)\n",
    "#         print(\"SOURCE POSITION REAL WORLD:\", episode.start_position[0], episode.start_position[2])\n",
    "#         print(\"SOURCE POSITION GRID WORLD:\", s_x, s_y)\n",
    "        \n",
    "#         print(\"PADDING\", point_padding)\n",
    "        \n",
    "        top_down_map[\n",
    "            s_x - point_padding : s_x + point_padding + 1,\n",
    "            s_y - point_padding : s_y + point_padding + 1,\n",
    "        ] = maps.MAP_SOURCE_POINT_INDICATOR\n",
    "\n",
    "    if point == 'end':\n",
    "        t_x, t_y = maps.to_grid(\n",
    "            episode.goals[0].position[0],\n",
    "            episode.goals[0].position[2],\n",
    "            maps.COORDINATE_MIN,\n",
    "            maps.COORDINATE_MAX,\n",
    "            (1250, 1250),\n",
    "        )\n",
    "        point_padding = 1 * int(\n",
    "            np.ceil(top_down_map.shape[0] / MAP_THICKNESS_SCALAR)\n",
    "        )\n",
    "#         print(\"TARGET POSITION REAL WORLD:\", episode.goals[0].position[0], episode.goals[0].position[2])\n",
    "#         print(\"TARGET POSITION:\", t_x, t_y)\n",
    "        top_down_map[\n",
    "            t_x - point_padding : t_x + point_padding + 1,\n",
    "            t_y - point_padding : t_y + point_padding + 1,\n",
    "        ] = maps.MAP_TARGET_POINT_INDICATOR\n",
    "    \n",
    "    return top_down_map"
   ]
  },
  {
   "cell_type": "code",
   "execution_count": 4,
   "metadata": {},
   "outputs": [
    {
     "name": "stderr",
     "output_type": "stream",
     "text": [
      "2019-07-03 17:30:43,513 initializing sim Sim-v0\n",
      "I0703 17:30:43.520059 69008 simulator.py:78] Loaded navmesh /private/home/medhini/navigation-analysis-habitat/habitat-api/data/scene_datasets/mp3d/2azQ1b91cZZ/2azQ1b91cZZ.navmesh\n",
      "2019-07-03 17:30:54,530 initializing task Nav-v0\n"
     ]
    },
    {
     "data": {
      "image/png": "[encoded data removed]",
      "text/plain": [
       "<Figure size 432x288 with 1 Axes>"
      ]
     },
     "metadata": {
      "needs_background": "light"
     },
     "output_type": "display_data"
    },
    {
     "data": {
      "image/png": "[encoded data removed]",
      "text/plain": [
       "<Figure size 432x288 with 1 Axes>"
      ]
     },
     "metadata": {
      "needs_background": "light"
     },
     "output_type": "display_data"
    },
    {
     "ename": "ValueError",
     "evalue": "operands could not be broadcast together with shapes (345,218) (345,202) (345,218) ",
     "output_type": "error",
     "traceback": [
      "\u001b[0;31m---------------------------------------------------------------------------\u001b[0m",
      "\u001b[0;31mValueError\u001b[0m                                Traceback (most recent call last)",
      "\u001b[0;32m<ipython-input-4-bd8aaa86e3b2>\u001b[0m in \u001b[0;36m<module>\u001b[0;34m\u001b[0m\n\u001b[1;32m     57\u001b[0m \u001b[0;34m\u001b[0m\u001b[0m\n\u001b[1;32m     58\u001b[0m         \u001b[0;32melse\u001b[0m\u001b[0;34m:\u001b[0m\u001b[0;34m\u001b[0m\u001b[0;34m\u001b[0m\u001b[0m\n\u001b[0;32m---> 59\u001b[0;31m             \u001b[0mstart_map\u001b[0m \u001b[0;34m+=\u001b[0m \u001b[0mstart_top_down_map\u001b[0m\u001b[0;34m\u001b[0m\u001b[0;34m\u001b[0m\u001b[0m\n\u001b[0m\u001b[1;32m     60\u001b[0m             \u001b[0mend_map\u001b[0m \u001b[0;34m+=\u001b[0m \u001b[0mend_top_down_map\u001b[0m\u001b[0;34m\u001b[0m\u001b[0;34m\u001b[0m\u001b[0m\n\u001b[1;32m     61\u001b[0m \u001b[0;34m\u001b[0m\u001b[0m\n",
      "\u001b[0;31mValueError\u001b[0m: operands could not be broadcast together with shapes (345,218) (345,202) (345,218) "
     ]
    }
   ],
   "source": [
    "splits = ['val', 'train', 'test']\n",
    "episode_counts = {'val':75,'train':93750,'test':50}\n",
    "data_path = '../data/datasets/roomnav/mp3d/v1/{split}/{split}.json.gz'\n",
    "\n",
    "for split in splits:\n",
    "    config = habitat.get_config(config_paths=\"tasks/roomnav_mp3d.yaml\")\n",
    "    config.defrost()\n",
    "    config.DATASET.DATA_PATH = data_path.format(split=split)\n",
    "    config.DATASET.SCENES_DIR = '../data/scene_datasets/'\n",
    "    config.TASK.MEASUREMENTS.append(\"TOP_DOWN_MAP\")\n",
    "    config.freeze()\n",
    "    \n",
    "    env = SimpleRLEnv(config=config)\n",
    "    \n",
    "    scene_count = 0\n",
    "    this_scene = env.episodes[0].scene_id.strip().split('/')[-1]\n",
    "    \n",
    "    start_map = np.array([])\n",
    "    end_map = np.array([])\n",
    "    \n",
    "    for i in range(len(env.episodes)):\n",
    "        \n",
    "        start_top_down_map = plot_point(env.episodes[i], 'start')\n",
    "        \n",
    "        range_x = np.where(np.any(start_top_down_map, axis=1))[0]\n",
    "        range_y = np.where(np.any(start_top_down_map, axis=0))[0]\n",
    "\n",
    "        x_min = range_x[0]\n",
    "        x_max = range_x[-1]\n",
    "        y_min = range_y[0]\n",
    "        y_max = range_y[-1]\n",
    "\n",
    "        start_top_down_map = start_top_down_map[x_min:x_max, y_min:y_max]\n",
    "\n",
    "        end_top_down_map = plot_point(env.episodes[i], 'end')\n",
    "        end_top_down_map = end_top_down_map[x_min:x_max, y_min:y_max]\n",
    "        \n",
    "        if len(start_map) == 0:\n",
    "            start_map = start_top_down_map\n",
    "            end_map = end_top_down_map\n",
    "        \n",
    "        if env.episodes[i].scene_id.strip().split('/')[-1] != this_scene:\n",
    "            start_map = start_map/episode_counts[split]\n",
    "            end_map = end_map/episode_counts[split]\n",
    "        \n",
    "            plt.imshow(start_map)\n",
    "            plt.show()\n",
    "            \n",
    "            plt.imshow(end_map)\n",
    "            plt.show()\n",
    "            \n",
    "            start_map = start_top_down_map\n",
    "            end_map = end_top_down_map\n",
    "            \n",
    "            this_scene = env.episodes[i].scene_id.strip().split('/')[-1]\n",
    "            scene_count += 1\n",
    "            \n",
    "        else:\n",
    "            start_map += start_top_down_map\n",
    "            end_map += end_top_down_map\n",
    "            \n",
    "    start_map = start_map/episode_counts[split]\n",
    "    end_map = end_map/episode_counts[split]\n",
    "\n",
    "    plt.imshow(start_map)\n",
    "    plt.show()\n",
    "\n",
    "    plt.imshow(end_map)\n",
    "    plt.show()    \n",
    "    \n",
    "    env.close()"
   ]
  },
  {
   "cell_type": "code",
   "execution_count": 4,
   "metadata": {},
   "outputs": [
    {
     "name": "stderr",
     "output_type": "stream",
     "text": [
      "2019-07-03 17:40:31,569 initializing sim Sim-v0\n",
      "I0703 17:40:31.578777 69323 simulator.py:78] Loaded navmesh /private/home/medhini/navigation-analysis-habitat/habitat-api/data/scene_datasets/mp3d/2azQ1b91cZZ/2azQ1b91cZZ.navmesh\n",
      "2019-07-03 17:40:42,623 initializing task Nav-v0\n"
     ]
    },
    {
     "name": "stdout",
     "output_type": "stream",
     "text": [
      "300\n"
     ]
    }
   ],
   "source": [
    "\n",
    "data_path = '../data/datasets/roomnav/mp3d/v1/{split}/{split}.json.gz'\n",
    "\n",
    "# start_map = None\n",
    "# end_map = None\n",
    "\n",
    "config = habitat.get_config(config_paths=\"tasks/roomnav_mp3d.yaml\")\n",
    "config.defrost()\n",
    "config.DATASET.DATA_PATH = data_path.format(split='val')\n",
    "config.DATASET.SCENES_DIR = '../data/scene_datasets/'\n",
    "config.TASK.MEASUREMENTS.append(\"TOP_DOWN_MAP\")\n",
    "config.freeze()\n",
    "\n",
    "env = SimpleRLEnv(config=config)\n",
    "\n",
    "print(len(env.episodes))"
   ]
  },
  {
   "cell_type": "code",
   "execution_count": 6,
   "metadata": {
    "scrolled": false
   },
   "outputs": [
    {
     "name": "stdout",
     "output_type": "stream",
     "text": [
      "x_min: 474\n",
      "x_max: 819\n",
      "y_min: 420\n",
      "y_max: 622\n"
     ]
    },
    {
     "data": {
      "image/png": "[encoded data removed]",
      "text/plain": [
       "<Figure size 432x288 with 1 Axes>"
      ]
     },
     "metadata": {
      "needs_background": "light"
     },
     "output_type": "display_data"
    },
    {
     "data": {
      "image/png": "[encoded data removed]",
      "text/plain": [
       "<Figure size 432x288 with 1 Axes>"
      ]
     },
     "metadata": {
      "needs_background": "light"
     },
     "output_type": "display_data"
    },
    {
     "name": "stdout",
     "output_type": "stream",
     "text": [
      "SCENE: 2azQ1b91cZZ.glb\n",
      "x_min: 474\n",
      "x_max: 819\n",
      "y_min: 420\n",
      "y_max: 622\n"
     ]
    },
    {
     "data": {
      "image/png": "[encoded data removed]",
      "text/plain": [
       "<Figure size 432x288 with 1 Axes>"
      ]
     },
     "metadata": {
      "needs_background": "light"
     },
     "output_type": "display_data"
    },
    {
     "data": {
      "image/png": "[encoded data removed]",
      "text/plain": [
       "<Figure size 432x288 with 1 Axes>"
      ]
     },
     "metadata": {
      "needs_background": "light"
     },
     "output_type": "display_data"
    },
    {
     "name": "stdout",
     "output_type": "stream",
     "text": [
      "SCENE: 2azQ1b91cZZ.glb\n"
     ]
    }
   ],
   "source": [
    "# observations = env.reset()\n",
    "\n",
    "# observations, reward, done, info = env.step(1)\n",
    "\n",
    "scene_count = 0\n",
    "this_scene = env.episodes[0].scene_id.strip().split('/')[-1]\n",
    "\n",
    "start_top_down_map = plot_point(env.episodes[0], 'start')\n",
    "# start_top_down_map = maps.get_topdown_map(env._env.sim, map_resolution=(5000,5000))\n",
    "# plt.imshow(start_top_down_map)\n",
    "# plt.show()\n",
    "\n",
    "range_x = np.where(np.any(start_top_down_map, axis=1))[0]\n",
    "range_y = np.where(np.any(start_top_down_map, axis=0))[0]\n",
    "\n",
    "grid_delta = 0\n",
    "x_min = range_x[0] - grid_delta\n",
    "x_max = range_x[-1] + grid_delta\n",
    "y_min = range_y[0] - grid_delta\n",
    "y_max = range_y[-1] + grid_delta\n",
    "\n",
    "print(\"x_min:\", x_min)\n",
    "print(\"x_max:\", x_max)\n",
    "print(\"y_min:\", y_min)\n",
    "print(\"y_max:\", y_max)\n",
    "\n",
    "start_top_down_map = start_top_down_map[x_min:x_max, y_min:y_max]\n",
    "# start_colored_map = maps.colorize_topdown_map(start_top_down_map)\n",
    "plt.imshow(start_top_down_map)\n",
    "plt.show()\n",
    "\n",
    "end_top_down_map = plot_point(env.episodes[0], 'end')\n",
    "\n",
    "# end_top_down_map = maps.get_topdown_map(env._env.sim, map_resolution=(5000,5000))\n",
    "# plt.imshow(end_top_down_map)\n",
    "# plt.show()\n",
    "range_x = np.where(np.any(end_top_down_map, axis=1))[0]\n",
    "range_y = np.where(np.any(end_top_down_map, axis=0))[0]\n",
    "\n",
    "x_min = range_x[0]\n",
    "x_max = range_x[-1]\n",
    "y_min = range_y[0]\n",
    "y_max = range_y[-1]\n",
    "\n",
    "end_top_down_map = end_top_down_map[x_min:x_max, y_min:y_max]\n",
    "\n",
    "plt.imshow(end_top_down_map)\n",
    "plt.show()\n",
    "\n",
    "print(\"SCENE:\",env.episodes[0].scene_id.strip().split('/')[-1])\n",
    "\n",
    "# observations = env.reset()\n",
    "\n",
    "# observations, reward, done, info = env.step(1)\n",
    "\n",
    "scene_count = 0\n",
    "this_scene = env.episodes[0].scene_id.strip().split('/')[-1]\n",
    "\n",
    "start_top_down_map = plot_point(env.episodes[1], 'start')\n",
    "\n",
    "range_x = np.where(np.any(start_top_down_map, axis=1))[0]\n",
    "range_y = np.where(np.any(start_top_down_map, axis=0))[0]\n",
    "\n",
    "grid_delta = 0\n",
    "x_min = range_x[0] - grid_delta\n",
    "x_max = range_x[-1] + grid_delta\n",
    "y_min = range_y[0] - grid_delta\n",
    "y_max = range_y[-1] + grid_delta\n",
    "\n",
    "print(\"x_min:\", x_min)\n",
    "print(\"x_max:\", x_max)\n",
    "print(\"y_min:\", y_min)\n",
    "print(\"y_max:\", y_max)\n",
    "\n",
    "start_top_down_map = start_top_down_map[x_min:x_max, y_min:y_max]\n",
    "plt.imshow(start_top_down_map)\n",
    "plt.show()\n",
    "\n",
    "end_top_down_map = plot_point(env.episodes[1], 'end')\n",
    "\n",
    "range_x = np.where(np.any(end_top_down_map, axis=1))[0]\n",
    "range_y = np.where(np.any(end_top_down_map, axis=0))[0]\n",
    "\n",
    "x_min = range_x[0]\n",
    "x_max = range_x[-1]\n",
    "y_min = range_y[0]\n",
    "y_max = range_y[-1]\n",
    "\n",
    "end_top_down_map = end_top_down_map[x_min:x_max, y_min:y_max]\n",
    "\n",
    "plt.imshow(end_top_down_map)\n",
    "plt.show()\n",
    "\n",
    "print(\"SCENE:\",env.episodes[1].scene_id.strip().split('/')[-1])"
   ]
  },
  {
   "cell_type": "code",
   "execution_count": 1,
   "metadata": {
    "scrolled": false
   },
   "outputs": [
    {
     "name": "stderr",
     "output_type": "stream",
     "text": [
      "2019-07-03 16:18:14,511 initializing sim Sim-v0\n",
      "I0703 16:18:14.516537 66422 simulator.py:78] Loaded navmesh /private/home/medhini/navigation-analysis-habitat/habitat-api/data/scene_datasets/mp3d/2azQ1b91cZZ/2azQ1b91cZZ.navmesh\n",
      "2019-07-03 16:18:25,907 initializing task Nav-v0\n"
     ]
    },
    {
     "name": "stdout",
     "output_type": "stream",
     "text": [
      "Environment creation successful\n",
      "COORDINATES RANGE: -62.324101 90.039901\n",
      "MAP_RESOLUTION: (1250, 1250)\n",
      "SOURCE POSITION REAL WORLD: 0.5976877212524414 5.558842658996582\n",
      "SOURCE POSITION GRID WORLD: 733 556\n",
      "TARGET POSITION REAL WORLD: 19.30671501159668 -9.629144668579102\n",
      "TARGET POSITION: 580 432\n",
      "PADDING: 2\n"
     ]
    }
   ],
   "source": [
    "import os\n",
    "import shutil\n",
    "\n",
    "from PIL import Image\n",
    "import numpy as np\n",
    "\n",
    "import habitat\n",
    "from habitat.tasks.nav.shortest_path_follower import ShortestPathFollower\n",
    "from habitat.utils.visualizations import maps\n",
    "\n",
    "class SimpleRLEnv(habitat.RLEnv):\n",
    "    def get_reward_range(self):\n",
    "        return [-1, 1]\n",
    "\n",
    "    def get_reward(self, observations):\n",
    "        return 0\n",
    "\n",
    "    def get_done(self, observations):\n",
    "        return self.habitat_env.episode_over\n",
    "\n",
    "    def get_info(self, observations):\n",
    "        return self.habitat_env.get_metrics()\n",
    "    \n",
    "def draw_top_down_map(info, heading, output_size):\n",
    "    top_down_map = maps.colorize_topdown_map(info[\"top_down_map\"][\"map\"])\n",
    "    original_map_size = top_down_map.shape[:2]\n",
    "    map_scale = np.array(\n",
    "        (1, original_map_size[1] * 1.0 / original_map_size[0])\n",
    "    )\n",
    "    new_map_size = np.round(output_size * map_scale).astype(np.int32)\n",
    "    # OpenCV expects w, h but map size is in h, w\n",
    "    top_down_map = cv2.resize(top_down_map, (new_map_size[1], new_map_size[0]))\n",
    "\n",
    "    map_agent_pos = info[\"top_down_map\"][\"agent_map_coord\"]\n",
    "    map_agent_pos = np.round(\n",
    "        map_agent_pos * new_map_size / original_map_size\n",
    "    ).astype(np.int32)\n",
    "    top_down_map = maps.draw_agent(\n",
    "        top_down_map,\n",
    "        map_agent_pos,\n",
    "        heading - np.pi / 2,\n",
    "        agent_radius_px=top_down_map.shape[0] / 40,\n",
    "    )\n",
    "    return top_down_map\n",
    "    \n",
    "def draw_top_down_map(): \n",
    "    splits = ['val', 'test', 'train']\n",
    "\n",
    "    data_path = '../data/datasets/roomnav/mp3d/v1/{split}/{split}.json.gz'\n",
    "\n",
    "    for split in splits:\n",
    "    \n",
    "        config = habitat.get_config(config_paths=\"tasks/roomnav_mp3d.yaml\")\n",
    "        config.defrost()\n",
    "        config.DATASET.DATA_PATH = data_path.format(split=split)\n",
    "        config.DATASET.SCENES_DIR = '../data/scene_datasets/'\n",
    "        config.TASK.MEASUREMENTS.append(\"TOP_DOWN_MAP\")\n",
    "        config.TASK.SENSORS.append(\"HEADING_SENSOR\")\n",
    "        config.freeze()\n",
    "        \n",
    "    \n",
    "        outfile = 'AverageTopDown-{split}'.format(split=split)\n",
    "\n",
    "        env = SimpleRLEnv(config=config)\n",
    "        \n",
    "        \n",
    "        goal_radius = env.episodes[0].goals[0].radius\n",
    "        if goal_radius is None:\n",
    "            goal_radius = config.SIMULATOR.FORWARD_STEP_SIZE\n",
    "        \n",
    "        follower = ShortestPathFollower(env.habitat_env.sim, goal_radius, False)\n",
    "        follower.mode = 'greedy'\n",
    "\n",
    "        print(\"Environment creation successful\")\n",
    "        for episode in range(len(env.episodes)):\n",
    "            observations = env.reset()\n",
    "            best_action = follower.get_next_action(\n",
    "                env.habitat_env.current_episode.goals[0].position\n",
    "            )\n",
    "            observations, reward, done, info = env.step(best_action)\n",
    "#             im = observations[\"rgb\"]\n",
    "#             output_size = im.shape[0]\n",
    "#             heading = observations[\"heading\"]\n",
    "    \n",
    "            top_down_map = maps.colorize_topdown_map(info[\"top_down_map\"][\"map\"])\n",
    "        \n",
    "            top_down_map = Image.fromarray(top_down_map)\n",
    "            return top_down_map\n",
    "            top_down_map.show()\n",
    "            sys.exit(0)\n",
    "#             original_map_size = top_down_map.shape[:2]\n",
    "#             map_scale = np.array(\n",
    "#                 (1, original_map_size[1] * 1.0 / original_map_size[0])\n",
    "#             )\n",
    "#             new_map_size = np.round(output_size * map_scale).astype(np.int32)\n",
    "#             # OpenCV expects w, h but map size is in h, w\n",
    "#             top_down_map = cv2.resize(top_down_map, (new_map_size[1], new_map_size[0]))\n",
    "\n",
    "#             map_agent_pos = info[\"top_down_map\"][\"agent_map_coord\"]\n",
    "#             map_agent_pos = np.round(\n",
    "#                 map_agent_pos * new_map_size / original_map_size\n",
    "#             ).astype(np.int32)\n",
    "            \n",
    "            \n",
    "res = draw_top_down_map()\n",
    "\n",
    "\n"
   ]
  },
  {
   "cell_type": "code",
   "execution_count": 2,
   "metadata": {},
   "outputs": [
    {
     "data": {
      "image/png": "[encoded data removed]",
      "text/plain": [
       "<PIL.Image.Image image mode=RGB size=208x351 at 0x7F5BDB069A20>"
      ]
     },
     "execution_count": 2,
     "metadata": {},
     "output_type": "execute_result"
    }
   ],
   "source": [
    "res"
   ]
  },
  {
   "cell_type": "code",
   "execution_count": null,
   "metadata": {},
   "outputs": [],
   "source": [
    "YOLO COORDINATES RANGE: -62.324101 90.039901\n",
    "YOLO MAP_RESOLUTION: (1250, 1250)\n",
    "YOLO SOURCE POSITION REAL WORLD: 2.0708532333374023 0.7956106662750244\n",
    "YOLO SOURCE POSITION GRID WORLD: 721 517\n",
    "YOLO TARGET POSITION REAL WORLD: 10.323966026306152 4.899158477783203\n",
    "YOLO TARGET POSITION: 653 551\n",
    "YOLO PADDING: 2\n",
    "    \n",
    "COORDINATES RANGE: -62.324101 90.039901\n",
    "MAP_RESOLUTION: 1250\n",
    "SOURCE POSITION REAL WORLD: 0.5976877212524414 5.558842658996582\n",
    "SOURCE POSITION GRID WORLD: 733 556\n",
    "PADDING 4\n",
    "TARGET POSITION REAL WORLD: 19.30671501159668 -9.629144668579102\n",
    "TARGET POSITION: 580 432\n",
    "    \n",
    "    \n",
    "    YOLO COORDINATES RANGE: -62.324101 90.039901\n",
    "YOLO MAP_RESOLUTION: (1250, 1250)\n",
    "YOLO SOURCE POSITION REAL WORLD: 10.69529914855957 7.605946063995361\n",
    "YOLO SOURCE POSITION GRID WORLD: 650 573\n",
    "YOLO TARGET POSITION REAL WORLD: 3.046595573425293 1.6201083660125732\n",
    "YOLO TARGET POSITION: 713 524\n",
    "YOLO PADDING: 2"
   ]
  }
 ],
 "metadata": {
  "kernelspec": {
   "display_name": "Python 3",
   "language": "python",
   "name": "python3"
  },
  "language_info": {
   "codemirror_mode": {
    "name": "ipython",
    "version": 3
   },
   "file_extension": ".py",
   "mimetype": "text/x-python",
   "name": "python",
   "nbconvert_exporter": "python",
   "pygments_lexer": "ipython3",
   "version": "3.6.8"
  }
 },
 "nbformat": 4,
 "nbformat_minor": 2
}

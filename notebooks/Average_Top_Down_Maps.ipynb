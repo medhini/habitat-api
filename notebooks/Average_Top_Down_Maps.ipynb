{
 "cells": [
  {
   "cell_type": "code",
   "execution_count": 1,
   "metadata": {},
   "outputs": [],
   "source": [
    "import habitat\n",
    "import os\n",
    "import sys\n",
    "import shutil\n",
    "\n",
    "%matplotlib inline\n",
    "import matplotlib.pyplot as plt\n",
    "from PIL import Image\n",
    "import numpy as np\n",
    "\n",
    "import habitat\n",
    "from habitat.tasks.nav.shortest_path_follower import ShortestPathFollower\n",
    "from habitat.utils.visualizations import maps"
   ]
  },
  {
   "cell_type": "code",
   "execution_count": 2,
   "metadata": {},
   "outputs": [],
   "source": [
    "class SimpleRLEnv(habitat.RLEnv):\n",
    "    def get_reward_range(self):\n",
    "        return [-1, 1]\n",
    "\n",
    "    def get_reward(self, observations):\n",
    "        return 0\n",
    "\n",
    "    def get_done(self, observations):\n",
    "        return self.habitat_env.episode_over\n",
    "\n",
    "    def get_info(self, observations):\n",
    "        return self.habitat_env.get_metrics()"
   ]
  },
  {
   "cell_type": "code",
   "execution_count": 3,
   "metadata": {},
   "outputs": [],
   "source": [
    "def plot_point(episode, point):\n",
    "    \n",
    "    top_down_map = maps.get_topdown_map(env._env.sim)\n",
    "    \n",
    "    MAP_THICKNESS_SCALAR = 1250\n",
    "    if point == 'start':\n",
    "        s_x, s_y = maps.to_grid(\n",
    "        episode.start_position[0],\n",
    "        episode.start_position[2],\n",
    "        maps.COORDINATE_MIN,\n",
    "        maps.COORDINATE_MAX,\n",
    "        (1250, 1250),\n",
    "        )\n",
    "        point_padding = 1 * int(\n",
    "            np.ceil(top_down_map.shape[0] / MAP_THICKNESS_SCALAR)\n",
    "        )\n",
    "#         print(\"COORDINATES RANGE:\", maps.COORDINATE_MIN, maps.COORDINATE_MAX)\n",
    "#         print(\"MAP_RESOLUTION:\", 1250)\n",
    "#         print(\"SOURCE POSITION REAL WORLD:\", episode.start_position[0], episode.start_position[2])\n",
    "#         print(\"SOURCE POSITION GRID WORLD:\", s_x, s_y)\n",
    "        \n",
    "#         print(\"PADDING\", point_padding)\n",
    "        \n",
    "        top_down_map[\n",
    "            s_x - point_padding : s_x + point_padding + 1,\n",
    "            s_y - point_padding : s_y + point_padding + 1,\n",
    "        ] = maps.MAP_SOURCE_POINT_INDICATOR\n",
    "\n",
    "    if point == 'end':\n",
    "        t_x, t_y = maps.to_grid(\n",
    "            episode.goals[0].position[0],\n",
    "            episode.goals[0].position[2],\n",
    "            maps.COORDINATE_MIN,\n",
    "            maps.COORDINATE_MAX,\n",
    "            (1250, 1250),\n",
    "        )\n",
    "        point_padding = 1 * int(\n",
    "            np.ceil(top_down_map.shape[0] / MAP_THICKNESS_SCALAR)\n",
    "        )\n",
    "#         print(\"TARGET POSITION REAL WORLD:\", episode.goals[0].position[0], episode.goals[0].position[2])\n",
    "#         print(\"TARGET POSITION:\", t_x, t_y)\n",
    "        top_down_map[\n",
    "            t_x - point_padding : t_x + point_padding + 1,\n",
    "            t_y - point_padding : t_y + point_padding + 1,\n",
    "        ] = maps.MAP_TARGET_POINT_INDICATOR\n",
    "    \n",
    "    return top_down_map"
   ]
  },
  {
   "cell_type": "code",
   "execution_count": 4,
   "metadata": {
    "scrolled": false
   },
   "outputs": [
    {
     "name": "stderr",
     "output_type": "stream",
     "text": [
      "2019-07-10 14:13:10,793 initializing sim Sim-v0\n",
      "I0710 14:13:10.801290 39408 simulator.py:78] Loaded navmesh /private/home/medhini/navigation-analysis-habitat/habitat-api/data/scene_datasets/mp3d/2azQ1b91cZZ/2azQ1b91cZZ.navmesh\n",
      "2019-07-10 14:13:22,292 initializing task Nav-v0\n"
     ]
    },
    {
     "name": "stdout",
     "output_type": "stream",
     "text": [
      "SCENE:  /private/home/medhini/navigation-analysis-habitat/habitat-api/data/scene_datasets/mp3d/2azQ1b91cZZ/2azQ1b91cZZ.glb 32.17621612548828 1.034767508506775 0.12711000442504883\n",
      "(345, 202) (346, 202)\n",
      "SCENE:  /private/home/medhini/navigation-analysis-habitat/habitat-api/data/scene_datasets/mp3d/2azQ1b91cZZ/2azQ1b91cZZ.glb 22.323274612426758 -11.018304824829102 0.12711000442504883\n",
      "(345, 202) (345, 203)\n"
     ]
    },
    {
     "name": "stderr",
     "output_type": "stream",
     "text": [
      "I0710 14:24:03.787607 39408 simulator.py:78] Loaded navmesh /private/home/medhini/navigation-analysis-habitat/habitat-api/data/scene_datasets/mp3d/X7HyMhZNoso/X7HyMhZNoso.navmesh\n"
     ]
    },
    {
     "name": "stdout",
     "output_type": "stream",
     "text": [
      "SCENE:  /private/home/medhini/navigation-analysis-habitat/habitat-api/data/scene_datasets/mp3d/X7HyMhZNoso/X7HyMhZNoso.glb 2.6654176712036133 20.751497268676758 -0.535740852355957\n",
      "(99, 181) (99, 146)\n",
      "SCENE:  /private/home/medhini/navigation-analysis-habitat/habitat-api/data/scene_datasets/mp3d/X7HyMhZNoso/X7HyMhZNoso.glb -3.474987030029297 21.391277313232422 -0.535740852355957\n",
      "(99, 181) (99, 146)\n",
      "SCENE:  /private/home/medhini/navigation-analysis-habitat/habitat-api/data/scene_datasets/mp3d/X7HyMhZNoso/X7HyMhZNoso.glb 2.2459616661071777 17.5167179107666 -0.535740852355957\n",
      "(99, 181) (99, 146)\n",
      "SCENE:  /private/home/medhini/navigation-analysis-habitat/habitat-api/data/scene_datasets/mp3d/X7HyMhZNoso/X7HyMhZNoso.glb -0.6172269582748413 14.29007339477539 -0.535740852355957\n",
      "(99, 181) (99, 146)\n",
      "SCENE:  /private/home/medhini/navigation-analysis-habitat/habitat-api/data/scene_datasets/mp3d/X7HyMhZNoso/X7HyMhZNoso.glb 0.41697317361831665 21.173795700073242 -0.535740852355957\n",
      "(99, 181) (99, 146)\n",
      "SCENE:  /private/home/medhini/navigation-analysis-habitat/habitat-api/data/scene_datasets/mp3d/X7HyMhZNoso/X7HyMhZNoso.glb 2.2702221870422363 16.347360610961914 -0.535740852355957\n",
      "(99, 181) (99, 146)\n",
      "SCENE:  /private/home/medhini/navigation-analysis-habitat/habitat-api/data/scene_datasets/mp3d/X7HyMhZNoso/X7HyMhZNoso.glb 1.8704335689544678 15.056020736694336 -0.535740852355957\n",
      "(99, 181) (99, 146)\n",
      "SCENE:  /private/home/medhini/navigation-analysis-habitat/habitat-api/data/scene_datasets/mp3d/X7HyMhZNoso/X7HyMhZNoso.glb 2.3082447052001953 12.416417121887207 -0.535740852355957\n",
      "(99, 181) (99, 146)\n",
      "SCENE:  /private/home/medhini/navigation-analysis-habitat/habitat-api/data/scene_datasets/mp3d/X7HyMhZNoso/X7HyMhZNoso.glb 5.826803207397461 15.773619651794434 -0.7357407808303833\n",
      "(99, 181) (100, 181)\n",
      "SCENE:  /private/home/medhini/navigation-analysis-habitat/habitat-api/data/scene_datasets/mp3d/X7HyMhZNoso/X7HyMhZNoso.glb 5.802569389343262 10.292041778564453 -0.6461830139160156\n",
      "(99, 181) (99, 182)\n",
      "SCENE:  /private/home/medhini/navigation-analysis-habitat/habitat-api/data/scene_datasets/mp3d/X7HyMhZNoso/X7HyMhZNoso.glb 0.47105875611305237 15.260666847229004 -0.535740852355957\n",
      "(99, 181) (99, 146)\n",
      "SCENE:  /private/home/medhini/navigation-analysis-habitat/habitat-api/data/scene_datasets/mp3d/X7HyMhZNoso/X7HyMhZNoso.glb 2.704436779022217 19.42242431640625 -0.535740852355957\n",
      "(99, 181) (99, 146)\n",
      "SCENE:  /private/home/medhini/navigation-analysis-habitat/habitat-api/data/scene_datasets/mp3d/X7HyMhZNoso/X7HyMhZNoso.glb 2.0062317848205566 16.912477493286133 -0.535740852355957\n",
      "(99, 181) (99, 146)\n",
      "SCENE:  /private/home/medhini/navigation-analysis-habitat/habitat-api/data/scene_datasets/mp3d/X7HyMhZNoso/X7HyMhZNoso.glb -3.733123302459717 14.393646240234375 -0.535740852355957\n",
      "(99, 181) (99, 146)\n",
      "SCENE:  /private/home/medhini/navigation-analysis-habitat/habitat-api/data/scene_datasets/mp3d/X7HyMhZNoso/X7HyMhZNoso.glb 5.821018218994141 16.93914031982422 -0.7439848780632019\n",
      "(99, 181) (100, 181)\n",
      "SCENE:  /private/home/medhini/navigation-analysis-habitat/habitat-api/data/scene_datasets/mp3d/X7HyMhZNoso/X7HyMhZNoso.glb 1.9340238571166992 12.193403244018555 -0.535740852355957\n",
      "(99, 181) (99, 146)\n",
      "SCENE:  /private/home/medhini/navigation-analysis-habitat/habitat-api/data/scene_datasets/mp3d/X7HyMhZNoso/X7HyMhZNoso.glb 2.692342758178711 17.196352005004883 -0.535740852355957\n",
      "(99, 181) (99, 146)\n",
      "SCENE:  /private/home/medhini/navigation-analysis-habitat/habitat-api/data/scene_datasets/mp3d/X7HyMhZNoso/X7HyMhZNoso.glb -1.534803032875061 19.22356414794922 -0.5363961458206177\n",
      "(99, 181) (99, 146)\n",
      "SCENE:  /private/home/medhini/navigation-analysis-habitat/habitat-api/data/scene_datasets/mp3d/X7HyMhZNoso/X7HyMhZNoso.glb -0.5674470067024231 17.85421371459961 -0.535740852355957\n",
      "(99, 181) (99, 146)\n",
      "SCENE:  /private/home/medhini/navigation-analysis-habitat/habitat-api/data/scene_datasets/mp3d/X7HyMhZNoso/X7HyMhZNoso.glb 4.215884208679199 9.086040496826172 -0.5403929948806763\n",
      "(99, 181) (99, 146)\n",
      "SCENE:  /private/home/medhini/navigation-analysis-habitat/habitat-api/data/scene_datasets/mp3d/X7HyMhZNoso/X7HyMhZNoso.glb 5.613746643066406 9.42541790008545 -0.5911593437194824\n",
      "(99, 181) (99, 211)\n",
      "SCENE:  /private/home/medhini/navigation-analysis-habitat/habitat-api/data/scene_datasets/mp3d/X7HyMhZNoso/X7HyMhZNoso.glb -0.5398764610290527 21.716384887695312 -0.6415108442306519\n",
      "(99, 181) (99, 182)\n",
      "SCENE:  /private/home/medhini/navigation-analysis-habitat/habitat-api/data/scene_datasets/mp3d/X7HyMhZNoso/X7HyMhZNoso.glb -4.490845680236816 20.192340850830078 -0.535740852355957\n",
      "(99, 181) (99, 146)\n",
      "SCENE:  /private/home/medhini/navigation-analysis-habitat/habitat-api/data/scene_datasets/mp3d/X7HyMhZNoso/X7HyMhZNoso.glb -0.36232393980026245 12.674783706665039 -0.535740852355957\n",
      "(99, 181) (99, 146)\n",
      "SCENE:  /private/home/medhini/navigation-analysis-habitat/habitat-api/data/scene_datasets/mp3d/X7HyMhZNoso/X7HyMhZNoso.glb -1.3538732528686523 12.545697212219238 -0.535740852355957\n",
      "(99, 181) (99, 146)\n",
      "SCENE:  /private/home/medhini/navigation-analysis-habitat/habitat-api/data/scene_datasets/mp3d/X7HyMhZNoso/X7HyMhZNoso.glb 1.8721108436584473 16.46232795715332 -0.535740852355957\n",
      "(99, 181) (99, 146)\n",
      "SCENE:  /private/home/medhini/navigation-analysis-habitat/habitat-api/data/scene_datasets/mp3d/X7HyMhZNoso/X7HyMhZNoso.glb 1.7562506198883057 17.580951690673828 -0.535740852355957\n",
      "(99, 181) (99, 146)\n",
      "SCENE:  /private/home/medhini/navigation-analysis-habitat/habitat-api/data/scene_datasets/mp3d/X7HyMhZNoso/X7HyMhZNoso.glb 0.4059981107711792 20.88369369506836 -0.535740852355957\n",
      "(99, 181) (99, 146)\n",
      "SCENE:  /private/home/medhini/navigation-analysis-habitat/habitat-api/data/scene_datasets/mp3d/X7HyMhZNoso/X7HyMhZNoso.glb -0.8214060068130493 17.93911361694336 -0.535740852355957\n",
      "(99, 181) (99, 146)\n",
      "SCENE:  /private/home/medhini/navigation-analysis-habitat/habitat-api/data/scene_datasets/mp3d/X7HyMhZNoso/X7HyMhZNoso.glb 4.714025497436523 8.505419731140137 -0.535740852355957\n",
      "(99, 181) (99, 146)\n",
      "SCENE:  /private/home/medhini/navigation-analysis-habitat/habitat-api/data/scene_datasets/mp3d/X7HyMhZNoso/X7HyMhZNoso.glb -0.9862985610961914 14.37253475189209 -0.535740852355957\n",
      "(99, 181) (99, 146)\n",
      "SCENE:  /private/home/medhini/navigation-analysis-habitat/habitat-api/data/scene_datasets/mp3d/X7HyMhZNoso/X7HyMhZNoso.glb -1.9110515117645264 13.896219253540039 -0.535740852355957\n",
      "(99, 181) (99, 146)\n",
      "SCENE:  /private/home/medhini/navigation-analysis-habitat/habitat-api/data/scene_datasets/mp3d/X7HyMhZNoso/X7HyMhZNoso.glb 0.13479524850845337 20.175682067871094 -0.535740852355957\n",
      "(99, 181) (99, 146)\n",
      "SCENE:  /private/home/medhini/navigation-analysis-habitat/habitat-api/data/scene_datasets/mp3d/X7HyMhZNoso/X7HyMhZNoso.glb 4.182974338531494 10.130081176757812 -0.6277881860733032\n",
      "(99, 181) (99, 146)\n",
      "SCENE:  /private/home/medhini/navigation-analysis-habitat/habitat-api/data/scene_datasets/mp3d/X7HyMhZNoso/X7HyMhZNoso.glb -0.6655125021934509 19.845970153808594 -0.5918459296226501\n",
      "(99, 181) (99, 147)\n",
      "SCENE:  /private/home/medhini/navigation-analysis-habitat/habitat-api/data/scene_datasets/mp3d/X7HyMhZNoso/X7HyMhZNoso.glb -4.654677867889404 21.17763328552246 -0.535740852355957\n",
      "(99, 181) (99, 146)\n",
      "SCENE:  /private/home/medhini/navigation-analysis-habitat/habitat-api/data/scene_datasets/mp3d/X7HyMhZNoso/X7HyMhZNoso.glb -0.2915109395980835 12.57085132598877 -0.535740852355957\n",
      "(99, 181) (99, 146)\n",
      "SCENE:  /private/home/medhini/navigation-analysis-habitat/habitat-api/data/scene_datasets/mp3d/X7HyMhZNoso/X7HyMhZNoso.glb 5.896605014801025 15.318584442138672 -0.7357407808303833\n",
      "(99, 181) (100, 181)\n",
      "SCENE:  /private/home/medhini/navigation-analysis-habitat/habitat-api/data/scene_datasets/mp3d/X7HyMhZNoso/X7HyMhZNoso.glb -0.24613073468208313 12.081393241882324 -0.535740852355957\n",
      "(99, 181) (99, 146)\n",
      "SCENE:  /private/home/medhini/navigation-analysis-habitat/habitat-api/data/scene_datasets/mp3d/X7HyMhZNoso/X7HyMhZNoso.glb -5.013338565826416 19.58292007446289 -0.535740852355957\n",
      "(99, 181) (99, 146)\n",
      "SCENE:  /private/home/medhini/navigation-analysis-habitat/habitat-api/data/scene_datasets/mp3d/X7HyMhZNoso/X7HyMhZNoso.glb -2.226078987121582 13.345663070678711 -0.535740852355957\n",
      "(99, 181) (99, 146)\n"
     ]
    },
    {
     "name": "stdout",
     "output_type": "stream",
     "text": [
      "SCENE:  /private/home/medhini/navigation-analysis-habitat/habitat-api/data/scene_datasets/mp3d/X7HyMhZNoso/X7HyMhZNoso.glb 0.01664823293685913 19.33062744140625 -0.535740852355957\n",
      "(99, 181) (99, 146)\n",
      "SCENE:  /private/home/medhini/navigation-analysis-habitat/habitat-api/data/scene_datasets/mp3d/X7HyMhZNoso/X7HyMhZNoso.glb -1.7071011066436768 17.199710845947266 -0.535740852355957\n",
      "(99, 181) (99, 146)\n",
      "SCENE:  /private/home/medhini/navigation-analysis-habitat/habitat-api/data/scene_datasets/mp3d/X7HyMhZNoso/X7HyMhZNoso.glb 1.2770627737045288 20.098567962646484 -0.535740852355957\n",
      "(99, 181) (99, 146)\n",
      "SCENE:  /private/home/medhini/navigation-analysis-habitat/habitat-api/data/scene_datasets/mp3d/X7HyMhZNoso/X7HyMhZNoso.glb -0.33398333191871643 12.321978569030762 -0.535740852355957\n",
      "(99, 181) (99, 146)\n",
      "SCENE:  /private/home/medhini/navigation-analysis-habitat/habitat-api/data/scene_datasets/mp3d/X7HyMhZNoso/X7HyMhZNoso.glb -2.4809682369232178 16.70985221862793 -0.535740852355957\n",
      "(99, 181) (99, 146)\n",
      "SCENE:  /private/home/medhini/navigation-analysis-habitat/habitat-api/data/scene_datasets/mp3d/X7HyMhZNoso/X7HyMhZNoso.glb 2.170991897583008 16.975765228271484 -0.535740852355957\n",
      "(99, 181) (99, 146)\n",
      "SCENE:  /private/home/medhini/navigation-analysis-habitat/habitat-api/data/scene_datasets/mp3d/X7HyMhZNoso/X7HyMhZNoso.glb -0.41278132796287537 11.746603012084961 -0.535740852355957\n",
      "(99, 181) (99, 146)\n",
      "SCENE:  /private/home/medhini/navigation-analysis-habitat/habitat-api/data/scene_datasets/mp3d/X7HyMhZNoso/X7HyMhZNoso.glb 1.12667715549469 19.742599487304688 -0.535740852355957\n",
      "(99, 181) (99, 146)\n",
      "SCENE:  /private/home/medhini/navigation-analysis-habitat/habitat-api/data/scene_datasets/mp3d/X7HyMhZNoso/X7HyMhZNoso.glb 2.5598340034484863 19.114662170410156 -0.535740852355957\n",
      "(99, 181) (99, 146)\n",
      "SCENE:  /private/home/medhini/navigation-analysis-habitat/habitat-api/data/scene_datasets/mp3d/X7HyMhZNoso/X7HyMhZNoso.glb 5.864075183868408 12.698801040649414 -0.7357407808303833\n",
      "(99, 181) (100, 181)\n",
      "SCENE:  /private/home/medhini/navigation-analysis-habitat/habitat-api/data/scene_datasets/mp3d/X7HyMhZNoso/X7HyMhZNoso.glb -0.8975564241409302 16.653995513916016 -0.535740852355957\n",
      "(99, 181) (99, 146)\n",
      "SCENE:  /private/home/medhini/navigation-analysis-habitat/habitat-api/data/scene_datasets/mp3d/X7HyMhZNoso/X7HyMhZNoso.glb 0.20582245290279388 17.829544067382812 -0.535740852355957\n",
      "(99, 181) (99, 146)\n",
      "SCENE:  /private/home/medhini/navigation-analysis-habitat/habitat-api/data/scene_datasets/mp3d/X7HyMhZNoso/X7HyMhZNoso.glb 2.2277960777282715 14.892971992492676 -0.535740852355957\n",
      "(99, 181) (99, 146)\n",
      "SCENE:  /private/home/medhini/navigation-analysis-habitat/habitat-api/data/scene_datasets/mp3d/X7HyMhZNoso/X7HyMhZNoso.glb 1.061382532119751 18.699920654296875 -0.535740852355957\n",
      "(99, 181) (99, 146)\n",
      "SCENE:  /private/home/medhini/navigation-analysis-habitat/habitat-api/data/scene_datasets/mp3d/X7HyMhZNoso/X7HyMhZNoso.glb 5.981703281402588 13.555174827575684 -0.7357407808303833\n",
      "(99, 181) (101, 181)\n",
      "SCENE:  /private/home/medhini/navigation-analysis-habitat/habitat-api/data/scene_datasets/mp3d/X7HyMhZNoso/X7HyMhZNoso.glb 2.219531297683716 9.91161823272705 -0.535740852355957\n",
      "(99, 181) (99, 146)\n",
      "SCENE:  /private/home/medhini/navigation-analysis-habitat/habitat-api/data/scene_datasets/mp3d/X7HyMhZNoso/X7HyMhZNoso.glb 1.121821403503418 17.864910125732422 -0.535740852355957\n",
      "(99, 181) (99, 146)\n",
      "SCENE:  /private/home/medhini/navigation-analysis-habitat/habitat-api/data/scene_datasets/mp3d/X7HyMhZNoso/X7HyMhZNoso.glb 0.8564798831939697 19.171545028686523 -0.535740852355957\n",
      "(99, 181) (99, 146)\n",
      "SCENE:  /private/home/medhini/navigation-analysis-habitat/habitat-api/data/scene_datasets/mp3d/X7HyMhZNoso/X7HyMhZNoso.glb 5.849069595336914 11.409053802490234 -0.717104434967041\n",
      "(99, 181) (100, 181)\n",
      "SCENE:  /private/home/medhini/navigation-analysis-habitat/habitat-api/data/scene_datasets/mp3d/X7HyMhZNoso/X7HyMhZNoso.glb -5.069810390472412 18.344913482666016 -0.535740852355957\n",
      "(99, 181) (99, 146)\n",
      "SCENE:  /private/home/medhini/navigation-analysis-habitat/habitat-api/data/scene_datasets/mp3d/X7HyMhZNoso/X7HyMhZNoso.glb 5.510072708129883 10.451410293579102 -0.6563016772270203\n",
      "(99, 181) (99, 182)\n",
      "SCENE:  /private/home/medhini/navigation-analysis-habitat/habitat-api/data/scene_datasets/mp3d/X7HyMhZNoso/X7HyMhZNoso.glb 5.871601104736328 15.52271842956543 -0.7357407808303833\n",
      "(99, 181) (100, 181)\n",
      "SCENE:  /private/home/medhini/navigation-analysis-habitat/habitat-api/data/scene_datasets/mp3d/X7HyMhZNoso/X7HyMhZNoso.glb 5.9472761154174805 11.355056762695312 -0.7136760354042053\n",
      "(99, 181) (101, 181)\n",
      "SCENE:  /private/home/medhini/navigation-analysis-habitat/habitat-api/data/scene_datasets/mp3d/X7HyMhZNoso/X7HyMhZNoso.glb -5.98166561126709 18.78142547607422 -0.535740852355957\n",
      "(99, 181) (99, 146)\n",
      "SCENE:  /private/home/medhini/navigation-analysis-habitat/habitat-api/data/scene_datasets/mp3d/X7HyMhZNoso/X7HyMhZNoso.glb 0.2872024476528168 19.877553939819336 -0.535740852355957\n",
      "(99, 181) (99, 146)\n",
      "SCENE:  /private/home/medhini/navigation-analysis-habitat/habitat-api/data/scene_datasets/mp3d/X7HyMhZNoso/X7HyMhZNoso.glb 0.7982048988342285 20.880496978759766 -0.535740852355957\n",
      "(99, 181) (99, 146)\n",
      "SCENE:  /private/home/medhini/navigation-analysis-habitat/habitat-api/data/scene_datasets/mp3d/X7HyMhZNoso/X7HyMhZNoso.glb -0.6212772727012634 17.713659286499023 -0.535740852355957\n",
      "(99, 181) (99, 146)\n",
      "SCENE:  /private/home/medhini/navigation-analysis-habitat/habitat-api/data/scene_datasets/mp3d/X7HyMhZNoso/X7HyMhZNoso.glb 5.522284507751465 8.493395805358887 -0.535740852355957\n",
      "(99, 181) (99, 146)\n",
      "SCENE:  /private/home/medhini/navigation-analysis-habitat/habitat-api/data/scene_datasets/mp3d/X7HyMhZNoso/X7HyMhZNoso.glb 0.6295519471168518 16.489370346069336 -0.535740852355957\n",
      "(99, 181) (99, 146)\n",
      "SCENE:  /private/home/medhini/navigation-analysis-habitat/habitat-api/data/scene_datasets/mp3d/X7HyMhZNoso/X7HyMhZNoso.glb -1.6156128644943237 20.942949295043945 -0.6709704399108887\n",
      "(99, 181) (99, 182)\n",
      "SCENE:  /private/home/medhini/navigation-analysis-habitat/habitat-api/data/scene_datasets/mp3d/X7HyMhZNoso/X7HyMhZNoso.glb -2.601728916168213 19.09695816040039 -0.535740852355957\n",
      "(99, 181) (99, 146)\n",
      "SCENE:  /private/home/medhini/navigation-analysis-habitat/habitat-api/data/scene_datasets/mp3d/X7HyMhZNoso/X7HyMhZNoso.glb 1.6121025085449219 17.18021011352539 -0.535740852355957\n",
      "(99, 181) (99, 146)\n",
      "SCENE:  /private/home/medhini/navigation-analysis-habitat/habitat-api/data/scene_datasets/mp3d/X7HyMhZNoso/X7HyMhZNoso.glb -1.0311028957366943 14.074615478515625 -0.535740852355957\n",
      "(99, 181) (99, 146)\n",
      "SCENE:  /private/home/medhini/navigation-analysis-habitat/habitat-api/data/scene_datasets/mp3d/X7HyMhZNoso/X7HyMhZNoso.glb 5.769437789916992 10.058006286621094 -0.6313236355781555\n",
      "(99, 181) (99, 209)\n",
      "SCENE:  /private/home/medhini/navigation-analysis-habitat/habitat-api/data/scene_datasets/mp3d/X7HyMhZNoso/X7HyMhZNoso.glb 5.522212028503418 10.31537914276123 -0.6476647853851318\n",
      "(99, 181) (99, 118)\n",
      "SCENE:  /private/home/medhini/navigation-analysis-habitat/habitat-api/data/scene_datasets/mp3d/X7HyMhZNoso/X7HyMhZNoso.glb 4.615408897399902 10.40229606628418 -0.6655457019805908\n",
      "(99, 181) (99, 182)\n",
      "SCENE:  /private/home/medhini/navigation-analysis-habitat/habitat-api/data/scene_datasets/mp3d/X7HyMhZNoso/X7HyMhZNoso.glb -4.106873512268066 16.755590438842773 -0.535740852355957\n",
      "(99, 181) (99, 146)\n",
      "SCENE:  /private/home/medhini/navigation-analysis-habitat/habitat-api/data/scene_datasets/mp3d/X7HyMhZNoso/X7HyMhZNoso.glb -0.10806695371866226 19.751237869262695 -0.535740852355957\n",
      "(99, 181) (99, 146)\n",
      "SCENE:  /private/home/medhini/navigation-analysis-habitat/habitat-api/data/scene_datasets/mp3d/X7HyMhZNoso/X7HyMhZNoso.glb 5.830528259277344 9.596343994140625 -0.6020117402076721\n",
      "(99, 181) (100, 147)\n",
      "SCENE:  /private/home/medhini/navigation-analysis-habitat/habitat-api/data/scene_datasets/mp3d/X7HyMhZNoso/X7HyMhZNoso.glb 5.56389856338501 10.379087448120117 -0.6517097353935242\n",
      "(99, 181) (99, 120)\n",
      "SCENE:  /private/home/medhini/navigation-analysis-habitat/habitat-api/data/scene_datasets/mp3d/X7HyMhZNoso/X7HyMhZNoso.glb 4.403013229370117 10.565839767456055 -0.6734170913696289\n",
      "(99, 181) (99, 182)\n"
     ]
    },
    {
     "name": "stdout",
     "output_type": "stream",
     "text": [
      "SCENE:  /private/home/medhini/navigation-analysis-habitat/habitat-api/data/scene_datasets/mp3d/X7HyMhZNoso/X7HyMhZNoso.glb 4.198368072509766 10.648810386657715 -0.6738017797470093\n",
      "(99, 181) (99, 182)\n",
      "SCENE:  /private/home/medhini/navigation-analysis-habitat/habitat-api/data/scene_datasets/mp3d/X7HyMhZNoso/X7HyMhZNoso.glb 2.435365676879883 14.560104370117188 -0.535740852355957\n",
      "(99, 181) (99, 146)\n",
      "SCENE:  /private/home/medhini/navigation-analysis-habitat/habitat-api/data/scene_datasets/mp3d/X7HyMhZNoso/X7HyMhZNoso.glb 1.4414091110229492 20.81354331970215 -0.535740852355957\n",
      "(99, 181) (99, 146)\n",
      "SCENE:  /private/home/medhini/navigation-analysis-habitat/habitat-api/data/scene_datasets/mp3d/X7HyMhZNoso/X7HyMhZNoso.glb 0.4289918541908264 19.87164878845215 -0.535740852355957\n",
      "(99, 181) (99, 146)\n",
      "SCENE:  /private/home/medhini/navigation-analysis-habitat/habitat-api/data/scene_datasets/mp3d/X7HyMhZNoso/X7HyMhZNoso.glb 4.465826511383057 9.054778099060059 -0.5391829013824463\n",
      "(99, 181) (99, 146)\n",
      "SCENE:  /private/home/medhini/navigation-analysis-habitat/habitat-api/data/scene_datasets/mp3d/X7HyMhZNoso/X7HyMhZNoso.glb 0.5496399998664856 19.85922622680664 -0.535740852355957\n",
      "(99, 181) (99, 146)\n",
      "SCENE:  /private/home/medhini/navigation-analysis-habitat/habitat-api/data/scene_datasets/mp3d/X7HyMhZNoso/X7HyMhZNoso.glb -4.985236167907715 16.979890823364258 -0.535740852355957\n",
      "(99, 181) (99, 146)\n",
      "SCENE:  /private/home/medhini/navigation-analysis-habitat/habitat-api/data/scene_datasets/mp3d/X7HyMhZNoso/X7HyMhZNoso.glb 0.14546245336532593 17.87789535522461 -0.535740852355957\n",
      "(99, 181) (99, 146)\n",
      "SCENE:  /private/home/medhini/navigation-analysis-habitat/habitat-api/data/scene_datasets/mp3d/X7HyMhZNoso/X7HyMhZNoso.glb 1.446699619293213 17.45712661743164 -0.535740852355957\n",
      "(99, 181) (99, 146)\n",
      "SCENE:  /private/home/medhini/navigation-analysis-habitat/habitat-api/data/scene_datasets/mp3d/X7HyMhZNoso/X7HyMhZNoso.glb 5.005787372589111 9.947413444519043 -0.6326935887336731\n",
      "(99, 181) (99, 145)\n",
      "SCENE:  /private/home/medhini/navigation-analysis-habitat/habitat-api/data/scene_datasets/mp3d/X7HyMhZNoso/X7HyMhZNoso.glb 0.6603791117668152 15.446390151977539 -0.535740852355957\n",
      "(99, 181) (99, 146)\n",
      "SCENE:  /private/home/medhini/navigation-analysis-habitat/habitat-api/data/scene_datasets/mp3d/X7HyMhZNoso/X7HyMhZNoso.glb 5.879045009613037 21.797739028930664 -0.9315122365951538\n",
      "(99, 181) (100, 181)\n",
      "SCENE:  /private/home/medhini/navigation-analysis-habitat/habitat-api/data/scene_datasets/mp3d/X7HyMhZNoso/X7HyMhZNoso.glb -0.36469602584838867 18.154870986938477 -0.535740852355957\n",
      "(99, 181) (99, 146)\n",
      "SCENE:  /private/home/medhini/navigation-analysis-habitat/habitat-api/data/scene_datasets/mp3d/X7HyMhZNoso/X7HyMhZNoso.glb 1.968197226524353 19.841691970825195 -0.535740852355957\n",
      "(99, 181) (99, 146)\n",
      "SCENE:  /private/home/medhini/navigation-analysis-habitat/habitat-api/data/scene_datasets/mp3d/X7HyMhZNoso/X7HyMhZNoso.glb -2.8254480361938477 13.942283630371094 -0.535740852355957\n",
      "(99, 181) (99, 146)\n",
      "SCENE:  /private/home/medhini/navigation-analysis-habitat/habitat-api/data/scene_datasets/mp3d/X7HyMhZNoso/X7HyMhZNoso.glb 1.5067616701126099 15.351213455200195 -0.535740852355957\n",
      "(99, 181) (99, 146)\n",
      "SCENE:  /private/home/medhini/navigation-analysis-habitat/habitat-api/data/scene_datasets/mp3d/X7HyMhZNoso/X7HyMhZNoso.glb 4.977375030517578 8.792806625366211 -0.535740852355957\n",
      "(99, 181) (99, 146)\n",
      "SCENE:  /private/home/medhini/navigation-analysis-habitat/habitat-api/data/scene_datasets/mp3d/X7HyMhZNoso/X7HyMhZNoso.glb -1.0251704454421997 16.564308166503906 -0.535740852355957\n",
      "(99, 181) (99, 146)\n",
      "SCENE:  /private/home/medhini/navigation-analysis-habitat/habitat-api/data/scene_datasets/mp3d/X7HyMhZNoso/X7HyMhZNoso.glb -1.9270212650299072 17.312000274658203 -0.535740852355957\n",
      "(99, 181) (99, 146)\n",
      "SCENE:  /private/home/medhini/navigation-analysis-habitat/habitat-api/data/scene_datasets/mp3d/X7HyMhZNoso/X7HyMhZNoso.glb 5.832827568054199 10.604296684265137 -0.666008710861206\n",
      "(99, 181) (100, 182)\n",
      "SCENE:  /private/home/medhini/navigation-analysis-habitat/habitat-api/data/scene_datasets/mp3d/X7HyMhZNoso/X7HyMhZNoso.glb -1.5673153400421143 19.664880752563477 -0.5703320503234863\n",
      "(99, 181) (99, 146)\n",
      "SCENE:  /private/home/medhini/navigation-analysis-habitat/habitat-api/data/scene_datasets/mp3d/X7HyMhZNoso/X7HyMhZNoso.glb 4.9616618156433105 14.832319259643555 -0.7357407808303833\n",
      "(99, 181) (99, 146)\n",
      "SCENE:  /private/home/medhini/navigation-analysis-habitat/habitat-api/data/scene_datasets/mp3d/X7HyMhZNoso/X7HyMhZNoso.glb -3.9280776977539062 17.47800636291504 -0.535740852355957\n",
      "(99, 181) (99, 146)\n",
      "SCENE:  /private/home/medhini/navigation-analysis-habitat/habitat-api/data/scene_datasets/mp3d/X7HyMhZNoso/X7HyMhZNoso.glb 3.1914241313934326 14.780765533447266 -0.535740852355957\n",
      "(99, 181) (99, 146)\n",
      "SCENE:  /private/home/medhini/navigation-analysis-habitat/habitat-api/data/scene_datasets/mp3d/X7HyMhZNoso/X7HyMhZNoso.glb -2.2788023948669434 18.551372528076172 -0.535740852355957\n",
      "(99, 181) (99, 146)\n",
      "SCENE:  /private/home/medhini/navigation-analysis-habitat/habitat-api/data/scene_datasets/mp3d/X7HyMhZNoso/X7HyMhZNoso.glb -1.5566201210021973 19.43329620361328 -0.5525750517845154\n",
      "(99, 181) (99, 146)\n",
      "SCENE:  /private/home/medhini/navigation-analysis-habitat/habitat-api/data/scene_datasets/mp3d/X7HyMhZNoso/X7HyMhZNoso.glb -2.6397864818573 15.437719345092773 -0.535740852355957\n",
      "(99, 181) (99, 146)\n",
      "SCENE:  /private/home/medhini/navigation-analysis-habitat/habitat-api/data/scene_datasets/mp3d/X7HyMhZNoso/X7HyMhZNoso.glb -0.780633270740509 13.93589973449707 -0.535740852355957\n",
      "(99, 181) (99, 146)\n",
      "SCENE:  /private/home/medhini/navigation-analysis-habitat/habitat-api/data/scene_datasets/mp3d/X7HyMhZNoso/X7HyMhZNoso.glb -3.717174530029297 18.04239845275879 -0.535740852355957\n",
      "(99, 181) (99, 146)\n",
      "SCENE:  /private/home/medhini/navigation-analysis-habitat/habitat-api/data/scene_datasets/mp3d/X7HyMhZNoso/X7HyMhZNoso.glb -1.057504415512085 17.330116271972656 -0.535740852355957\n",
      "(99, 181) (99, 146)\n",
      "SCENE:  /private/home/medhini/navigation-analysis-habitat/habitat-api/data/scene_datasets/mp3d/X7HyMhZNoso/X7HyMhZNoso.glb -1.7739394903182983 14.7962007522583 -0.535740852355957\n",
      "(99, 181) (99, 146)\n",
      "SCENE:  /private/home/medhini/navigation-analysis-habitat/habitat-api/data/scene_datasets/mp3d/X7HyMhZNoso/X7HyMhZNoso.glb -4.104509353637695 20.7624568939209 -0.535740852355957\n",
      "(99, 181) (99, 146)\n",
      "SCENE:  /private/home/medhini/navigation-analysis-habitat/habitat-api/data/scene_datasets/mp3d/X7HyMhZNoso/X7HyMhZNoso.glb -3.4976038932800293 17.062957763671875 -0.535740852355957\n",
      "(99, 181) (99, 146)\n",
      "SCENE:  /private/home/medhini/navigation-analysis-habitat/habitat-api/data/scene_datasets/mp3d/X7HyMhZNoso/X7HyMhZNoso.glb 0.7327513694763184 20.09315299987793 -0.535740852355957\n",
      "(99, 181) (99, 146)\n",
      "SCENE:  /private/home/medhini/navigation-analysis-habitat/habitat-api/data/scene_datasets/mp3d/X7HyMhZNoso/X7HyMhZNoso.glb 0.11629681289196014 21.275362014770508 -0.535740852355957\n",
      "(99, 181) (99, 146)\n",
      "SCENE:  /private/home/medhini/navigation-analysis-habitat/habitat-api/data/scene_datasets/mp3d/X7HyMhZNoso/X7HyMhZNoso.glb 5.196869373321533 9.131061553955078 -0.5714529752731323\n",
      "(99, 181) (99, 146)\n",
      "SCENE:  /private/home/medhini/navigation-analysis-habitat/habitat-api/data/scene_datasets/mp3d/X7HyMhZNoso/X7HyMhZNoso.glb -2.3770015239715576 21.19452667236328 -0.6658551096916199\n",
      "(99, 181) (99, 182)\n",
      "SCENE:  /private/home/medhini/navigation-analysis-habitat/habitat-api/data/scene_datasets/mp3d/X7HyMhZNoso/X7HyMhZNoso.glb 4.851223468780518 8.698137283325195 -0.535740852355957\n",
      "(99, 181) (99, 146)\n"
     ]
    },
    {
     "name": "stderr",
     "output_type": "stream",
     "text": [
      "I0710 14:29:28.429136 39408 simulator.py:78] Loaded navmesh /private/home/medhini/navigation-analysis-habitat/habitat-api/data/scene_datasets/mp3d/oLBMNvg9in8/oLBMNvg9in8.navmesh\n"
     ]
    },
    {
     "name": "stdout",
     "output_type": "stream",
     "text": [
      "SCENE:  /private/home/medhini/navigation-analysis-habitat/habitat-api/data/scene_datasets/mp3d/X7HyMhZNoso/X7HyMhZNoso.glb -5.068558692932129 13.319031715393066 -0.535740852355957\n",
      "(99, 181) (99, 146)\n",
      "SCENE:  /private/home/medhini/navigation-analysis-habitat/habitat-api/data/scene_datasets/mp3d/oLBMNvg9in8/oLBMNvg9in8.glb 5.549565315246582 -1.6659752130508423 -2.1900038719177246\n",
      "(73, 83) (74, 83)\n",
      "SCENE:  /private/home/medhini/navigation-analysis-habitat/habitat-api/data/scene_datasets/mp3d/oLBMNvg9in8/oLBMNvg9in8.glb 5.555750846862793 -1.887007474899292 -2.1900038719177246\n",
      "(73, 83) (74, 83)\n"
     ]
    },
    {
     "name": "stderr",
     "output_type": "stream",
     "text": [
      "I0710 14:33:48.830781 39408 simulator.py:78] Loaded navmesh /private/home/medhini/navigation-analysis-habitat/habitat-api/data/scene_datasets/mp3d/zsNo4HB9uLZ/zsNo4HB9uLZ.navmesh\n"
     ]
    },
    {
     "name": "stdout",
     "output_type": "stream",
     "text": [
      "SCENE:  /private/home/medhini/navigation-analysis-habitat/habitat-api/data/scene_datasets/mp3d/zsNo4HB9uLZ/zsNo4HB9uLZ.glb 8.052766799926758 -7.756375789642334 0.17162801325321198\n",
      "(179, 102) (179, 103)\n",
      "SCENE:  /private/home/medhini/navigation-analysis-habitat/habitat-api/data/scene_datasets/mp3d/zsNo4HB9uLZ/zsNo4HB9uLZ.glb 11.482635498046875 -7.8146209716796875 0.17162801325321198\n",
      "(179, 102) (179, 103)\n"
     ]
    },
    {
     "data": {
      "image/png": "[encoded data removed]",
      "text/plain": [
       "<Figure size 432x288 with 1 Axes>"
      ]
     },
     "metadata": {
      "needs_background": "light"
     },
     "output_type": "display_data"
    },
    {
     "data": {
      "image/png": "[encoded data removed]",
      "text/plain": [
       "<Figure size 432x288 with 1 Axes>"
      ]
     },
     "metadata": {
      "needs_background": "light"
     },
     "output_type": "display_data"
    },
    {
     "data": {
      "image/png": "[encoded data removed]",
      "text/plain": [
       "<Figure size 432x288 with 1 Axes>"
      ]
     },
     "metadata": {
      "needs_background": "light"
     },
     "output_type": "display_data"
    },
    {
     "data": {
      "image/png": "[encoded data removed]",
      "text/plain": [
       "<Figure size 432x288 with 1 Axes>"
      ]
     },
     "metadata": {
      "needs_background": "light"
     },
     "output_type": "display_data"
    },
    {
     "data": {
      "image/png": "[encoded data removed]",
      "text/plain": [
       "<Figure size 432x288 with 1 Axes>"
      ]
     },
     "metadata": {
      "needs_background": "light"
     },
     "output_type": "display_data"
    },
    {
     "data": {
      "image/png": "[encoded data removed]",
      "text/plain": [
       "<Figure size 432x288 with 1 Axes>"
      ]
     },
     "metadata": {
      "needs_background": "light"
     },
     "output_type": "display_data"
    },
    {
     "data": {
      "image/png": "[encoded data removed]",
      "text/plain": [
       "<Figure size 432x288 with 1 Axes>"
      ]
     },
     "metadata": {
      "needs_background": "light"
     },
     "output_type": "display_data"
    },
    {
     "data": {
      "image/png": "[encoded data removed]",
      "text/plain": [
       "<Figure size 432x288 with 1 Axes>"
      ]
     },
     "metadata": {
      "needs_background": "light"
     },
     "output_type": "display_data"
    },
    {
     "name": "stderr",
     "output_type": "stream",
     "text": [
      "2019-07-10 14:38:48,585 initializing sim Sim-v0\n",
      "I0710 14:38:48.590873 39408 simulator.py:78] Loaded navmesh /private/home/medhini/navigation-analysis-habitat/habitat-api/data/scene_datasets/mp3d/17DRP5sb8fy/17DRP5sb8fy.navmesh\n",
      "2019-07-10 14:38:50,722 initializing task Nav-v0\n"
     ]
    },
    {
     "name": "stdout",
     "output_type": "stream",
     "text": [
      "SCENE:  /private/home/medhini/navigation-analysis-habitat/habitat-api/data/scene_datasets/mp3d/17DRP5sb8fy/17DRP5sb8fy.glb 0.6681305766105652 -4.970120906829834 0.07244700193405151\n",
      "(123, 63) (123, 64)\n",
      "SCENE:  /private/home/medhini/navigation-analysis-habitat/habitat-api/data/scene_datasets/mp3d/17DRP5sb8fy/17DRP5sb8fy.glb -1.1858166456222534 -5.007080078125 0.07244700193405151\n",
      "(123, 63) (123, 64)\n",
      "SCENE:  /private/home/medhini/navigation-analysis-habitat/habitat-api/data/scene_datasets/mp3d/17DRP5sb8fy/17DRP5sb8fy.glb 0.4083267152309418 -4.922001838684082 0.07244700193405151\n",
      "(123, 63) (123, 64)\n"
     ]
    },
    {
     "name": "stderr",
     "output_type": "stream",
     "text": [
      "ERROR:root:Internal Python error in the inspect module.\n",
      "Below is the traceback from this internal error.\n",
      "\n"
     ]
    },
    {
     "name": "stdout",
     "output_type": "stream",
     "text": [
      "Traceback (most recent call last):\n",
      "  File \"/private/home/medhini/anaconda3/envs/habitat/lib/python3.6/site-packages/IPython/core/interactiveshell.py\", line 3296, in run_code\n",
      "    exec(code_obj, self.user_global_ns, self.user_ns)\n",
      "  File \"<ipython-input-4-6264f9485751>\", line 20, in <module>\n",
      "    observations = env.reset()\n",
      "  File \"/private/home/medhini/navigation-analysis-habitat/habitat-api/habitat/core/env.py\", line 299, in reset\n",
      "    return self._env.reset()\n",
      "  File \"/private/home/medhini/navigation-analysis-habitat/habitat-api/habitat/core/env.py\", line 195, in reset\n",
      "    self._task.measurements.reset_measures(episode=self.current_episode)\n",
      "  File \"/private/home/medhini/navigation-analysis-habitat/habitat-api/habitat/core/embodied_task.py\", line 92, in reset_measures\n",
      "    measure.reset_metric(*args, **kwargs)\n",
      "  File \"/private/home/medhini/navigation-analysis-habitat/habitat-api/habitat/tasks/nav/nav_task.py\", line 643, in reset_metric\n",
      "    self._top_down_map = self.get_original_map(episode)\n",
      "  File \"/private/home/medhini/navigation-analysis-habitat/habitat-api/habitat/tasks/nav/nav_task.py\", line 596, in get_original_map\n",
      "    self._config.DRAW_BORDER,\n",
      "  File \"/private/home/medhini/navigation-analysis-habitat/habitat-api/habitat/utils/visualizations/maps.py\", line 303, in get_topdown_map\n",
      "    [realworld_x, start_height, realworld_y]\n",
      "  File \"/private/home/medhini/navigation-analysis-habitat/habitat-api/habitat/sims/habitat_simulator/habitat_simulator.py\", line 336, in is_navigable\n",
      "    return self._sim.pathfinder.is_navigable(point)\n",
      "KeyboardInterrupt\n",
      "\n",
      "During handling of the above exception, another exception occurred:\n",
      "\n",
      "Traceback (most recent call last):\n",
      "  File \"/private/home/medhini/anaconda3/envs/habitat/lib/python3.6/site-packages/IPython/core/interactiveshell.py\", line 2033, in showtraceback\n",
      "    stb = value._render_traceback_()\n",
      "AttributeError: 'KeyboardInterrupt' object has no attribute '_render_traceback_'\n",
      "\n",
      "During handling of the above exception, another exception occurred:\n",
      "\n",
      "Traceback (most recent call last):\n",
      "  File \"/private/home/medhini/anaconda3/envs/habitat/lib/python3.6/site-packages/IPython/core/ultratb.py\", line 1095, in get_records\n",
      "    return _fixed_getinnerframes(etb, number_of_lines_of_context, tb_offset)\n",
      "  File \"/private/home/medhini/anaconda3/envs/habitat/lib/python3.6/site-packages/IPython/core/ultratb.py\", line 313, in wrapped\n",
      "    return f(*args, **kwargs)\n",
      "  File \"/private/home/medhini/anaconda3/envs/habitat/lib/python3.6/site-packages/IPython/core/ultratb.py\", line 347, in _fixed_getinnerframes\n",
      "    records = fix_frame_records_filenames(inspect.getinnerframes(etb, context))\n",
      "  File \"/private/home/medhini/anaconda3/envs/habitat/lib/python3.6/inspect.py\", line 1490, in getinnerframes\n",
      "    frameinfo = (tb.tb_frame,) + getframeinfo(tb, context)\n",
      "  File \"/private/home/medhini/anaconda3/envs/habitat/lib/python3.6/inspect.py\", line 1448, in getframeinfo\n",
      "    filename = getsourcefile(frame) or getfile(frame)\n",
      "  File \"/private/home/medhini/anaconda3/envs/habitat/lib/python3.6/inspect.py\", line 696, in getsourcefile\n",
      "    if getattr(getmodule(object, filename), '__loader__', None) is not None:\n",
      "  File \"/private/home/medhini/anaconda3/envs/habitat/lib/python3.6/inspect.py\", line 739, in getmodule\n",
      "    f = getabsfile(module)\n",
      "  File \"/private/home/medhini/anaconda3/envs/habitat/lib/python3.6/inspect.py\", line 708, in getabsfile\n",
      "    _filename = getsourcefile(object) or getfile(object)\n",
      "  File \"/private/home/medhini/anaconda3/envs/habitat/lib/python3.6/inspect.py\", line 693, in getsourcefile\n",
      "    if os.path.exists(filename):\n",
      "  File \"/private/home/medhini/anaconda3/envs/habitat/lib/python3.6/genericpath.py\", line 19, in exists\n",
      "    os.stat(path)\n",
      "KeyboardInterrupt\n"
     ]
    },
    {
     "ename": "KeyboardInterrupt",
     "evalue": "",
     "output_type": "error",
     "traceback": [
      "\u001b[0;31m---------------------------------------------------------------------------\u001b[0m"
     ]
    }
   ],
   "source": [
    "splits = ['val', 'train', 'test']\n",
    "episode_counts = {'val':200,'train':93750,'test':50}\n",
    "data_path = '../data/datasets/roomnav/mp3d/v1/{split}/{split}.json.gz'\n",
    "\n",
    "for split in splits:\n",
    "    config = habitat.get_config(config_paths=\"tasks/roomnav_mp3d.yaml\")\n",
    "    config.defrost()\n",
    "    config.DATASET.DATA_PATH = data_path.format(split=split)\n",
    "    config.DATASET.SCENES_DIR = '../data/scene_datasets/'\n",
    "    config.TASK.MEASUREMENTS.append(\"TOP_DOWN_MAP\")\n",
    "    config.freeze()\n",
    "    \n",
    "    env = SimpleRLEnv(config=config)\n",
    "    \n",
    "    start_map = {}\n",
    "    end_map = {}\n",
    "    \n",
    "    for i in range(len(env.episodes)):\n",
    "        \n",
    "        observations = env.reset()\n",
    "        \n",
    "        start_top_down_map = plot_point(env.current_episode, 'start')\n",
    "        \n",
    "        range_x = np.where(np.any(start_top_down_map, axis=1))[0]\n",
    "        range_y = np.where(np.any(start_top_down_map, axis=0))[0]\n",
    "\n",
    "        x_min = range_x[0]\n",
    "        x_max = range_x[-1]\n",
    "        y_min = range_y[0]\n",
    "        y_max = range_y[-1]\n",
    "\n",
    "        start_top_down_map = start_top_down_map[x_min:x_max, y_min:y_max]\n",
    "\n",
    "        end_top_down_map = plot_point(env.current_episode, 'end')\n",
    "        end_top_down_map = end_top_down_map[x_min:x_max, y_min:y_max]\n",
    "        \n",
    "        this_scene = env.current_episode.scene_id.strip().split('/')[-1]\n",
    "        \n",
    "        if this_scene not in start_map.keys():\n",
    "            start_map[this_scene] = start_top_down_map\n",
    "            end_map[this_scene] = end_top_down_map\n",
    "        else:\n",
    "            try:\n",
    "                start_map[this_scene] += start_top_down_map\n",
    "                end_map[this_scene] += end_top_down_map\n",
    "            except:\n",
    "                print(\"SCENE: \", env.current_episode.scene_id, env.current_episode.start_position[0], env.current_episode.start_position[2], env.current_episode.start_position[1])\n",
    "                print(start_map[this_scene].shape, start_top_down_map.shape)\n",
    "                continue\n",
    "                \n",
    "            \n",
    "    for key,mp in start_map.items():\n",
    "        start_mp = start_map[key]/100\n",
    "        end_mp = end_map[key]/100\n",
    "        \n",
    "        plt.imshow(start_mp)\n",
    "        plt.show()\n",
    "        \n",
    "        plt.imshow(end_mp)\n",
    "        plt.show()\n",
    "    \n",
    "    env.close()"
   ]
  },
  {
   "cell_type": "code",
   "execution_count": 4,
   "metadata": {},
   "outputs": [
    {
     "name": "stderr",
     "output_type": "stream",
     "text": [
      "2019-07-03 19:31:48,225 initializing sim Sim-v0\n",
      "I0703 19:31:48.229898 73316 simulator.py:78] Loaded navmesh /private/home/medhini/navigation-analysis-habitat/habitat-api/data/scene_datasets/mp3d/2azQ1b91cZZ/2azQ1b91cZZ.navmesh\n",
      "2019-07-03 19:31:59,757 initializing task Nav-v0\n"
     ]
    },
    {
     "name": "stdout",
     "output_type": "stream",
     "text": [
      "300\n",
      "['__annotations__', '__attrs_attrs__', '__class__', '__delattr__', '__dict__', '__dir__', '__doc__', '__eq__', '__format__', '__ge__', '__getattribute__', '__gt__', '__hash__', '__init__', '__init_subclass__', '__le__', '__lt__', '__module__', '__ne__', '__new__', '__reduce__', '__reduce_ex__', '__repr__', '__setattr__', '__sizeof__', '__str__', '__subclasshook__', '__weakref__', 'episode_id', 'goals', 'info', 'scene_id', 'shortest_paths', 'start_position', 'start_room', 'start_rotation']\n"
     ]
    }
   ],
   "source": [
    "\n",
    "data_path = '../data/datasets/roomnav/mp3d/v1/{split}/{split}.json.gz'\n",
    "\n",
    "# start_map = None\n",
    "# end_map = None\n",
    "\n",
    "config = habitat.get_config(config_paths=\"tasks/roomnav_mp3d.yaml\")\n",
    "config.defrost()\n",
    "config.DATASET.DATA_PATH = data_path.format(split='val')\n",
    "config.DATASET.SCENES_DIR = '../data/scene_datasets/'\n",
    "config.TASK.MEASUREMENTS.append(\"TOP_DOWN_MAP\")\n",
    "config.freeze()\n",
    "\n",
    "env = SimpleRLEnv(config=config)\n",
    "\n",
    "observations = env.reset()\n",
    "print(len(env.episodes))\n",
    "\n",
    "print(dir(env.current_episode))"
   ]
  },
  {
   "cell_type": "code",
   "execution_count": 5,
   "metadata": {},
   "outputs": [
    {
     "name": "stdout",
     "output_type": "stream",
     "text": [
      "{'geodesic_distance': 35.69606399536133}\n"
     ]
    }
   ],
   "source": [
    "print(env.current_episode.info)"
   ]
  },
  {
   "cell_type": "code",
   "execution_count": 7,
   "metadata": {},
   "outputs": [
    {
     "name": "stdout",
     "output_type": "stream",
     "text": [
      "[0.5976877212524414, 0.12711000442504883, 5.558842658996582] RoomGoal(position=[19.30671501159668, 0.12711000442504883, -9.629144668579102], radius=0.2, room_aabb=[17.837299346923828, -11.683799743652344, 22.730300903320312, -6.100349426269531], room_name='bedroom')\n"
     ]
    }
   ],
   "source": [
    "print(env.current_episode.start_position, env.current_episode.goals[0])"
   ]
  },
  {
   "cell_type": "code",
   "execution_count": null,
   "metadata": {
    "scrolled": false
   },
   "outputs": [],
   "source": [
    "# observations = env.reset()\n",
    "\n",
    "# observations, reward, done, info = env.step(1)\n",
    "\n",
    "scene_count = 0\n",
    "this_scene = env.current_episode.scene_id.strip().split('/')[-1]\n",
    "\n",
    "start_top_down_map = plot_point(env.current_episode, 'start')\n",
    "# start_top_down_map = maps.get_topdown_map(env._env.sim, map_resolution=(5000,5000))\n",
    "# plt.imshow(start_top_down_map)\n",
    "# plt.show()\n",
    "\n",
    "range_x = np.where(np.any(start_top_down_map, axis=1))[0]\n",
    "range_y = np.where(np.any(start_top_down_map, axis=0))[0]\n",
    "\n",
    "grid_delta = 0\n",
    "x_min = range_x[0] - grid_delta\n",
    "x_max = range_x[-1] + grid_delta\n",
    "y_min = range_y[0] - grid_delta\n",
    "y_max = range_y[-1] + grid_delta\n",
    "\n",
    "print(\"x_min:\", x_min)\n",
    "print(\"x_max:\", x_max)\n",
    "print(\"y_min:\", y_min)\n",
    "print(\"y_max:\", y_max)\n",
    "\n",
    "start_top_down_map = start_top_down_map[x_min:x_max, y_min:y_max]\n",
    "# start_colored_map = maps.colorize_topdown_map(start_top_down_map)\n",
    "plt.imshow(start_top_down_map)\n",
    "plt.show()\n",
    "\n",
    "end_top_down_map = plot_point(env.current_episode, 'end')\n",
    "\n",
    "# end_top_down_map = maps.get_topdown_map(env._env.sim, map_resolution=(5000,5000))\n",
    "# plt.imshow(end_top_down_map)\n",
    "# plt.show()\n",
    "range_x = np.where(np.any(end_top_down_map, axis=1))[0]\n",
    "range_y = np.where(np.any(end_top_down_map, axis=0))[0]\n",
    "\n",
    "x_min = range_x[0]\n",
    "x_max = range_x[-1]\n",
    "y_min = range_y[0]\n",
    "y_max = range_y[-1]\n",
    "\n",
    "end_top_down_map = end_top_down_map[x_min:x_max, y_min:y_max]\n",
    "\n",
    "plt.imshow(end_top_down_map)\n",
    "plt.show()\n",
    "\n",
    "print(\"SCENE:\",env.episodes[0].scene_id.strip().split('/')[-1])\n",
    "\n",
    "# observations = env.reset()\n",
    "\n",
    "# observations, reward, done, info = env.step(1)\n",
    "\n",
    "scene_count = 0\n",
    "this_scene = env.episodes[0].scene_id.strip().split('/')[-1]\n",
    "\n",
    "start_top_down_map = plot_point(env.current_episode, 'start')\n",
    "\n",
    "range_x = np.where(np.any(start_top_down_map, axis=1))[0]\n",
    "range_y = np.where(np.any(start_top_down_map, axis=0))[0]\n",
    "\n",
    "grid_delta = 0\n",
    "x_min = range_x[0] - grid_delta\n",
    "x_max = range_x[-1] + grid_delta\n",
    "y_min = range_y[0] - grid_delta\n",
    "y_max = range_y[-1] + grid_delta\n",
    "\n",
    "print(\"x_min:\", x_min)\n",
    "print(\"x_max:\", x_max)\n",
    "print(\"y_min:\", y_min)\n",
    "print(\"y_max:\", y_max)\n",
    "\n",
    "start_top_down_map = start_top_down_map[x_min:x_max, y_min:y_max]\n",
    "plt.imshow(start_top_down_map)\n",
    "plt.show()\n",
    "\n",
    "end_top_down_map = plot_point(env.episodes[1], 'end')\n",
    "\n",
    "range_x = np.where(np.any(end_top_down_map, axis=1))[0]\n",
    "range_y = np.where(np.any(end_top_down_map, axis=0))[0]\n",
    "\n",
    "x_min = range_x[0]\n",
    "x_max = range_x[-1]\n",
    "y_min = range_y[0]\n",
    "y_max = range_y[-1]\n",
    "\n",
    "end_top_down_map = end_top_down_map[x_min:x_max, y_min:y_max]\n",
    "\n",
    "plt.imshow(end_top_down_map)\n",
    "plt.show()\n",
    "\n",
    "print(\"SCENE:\",env.episodes[1].scene_id.strip().split('/')[-1])"
   ]
  },
  {
   "cell_type": "code",
   "execution_count": 1,
   "metadata": {
    "scrolled": false
   },
   "outputs": [
    {
     "name": "stderr",
     "output_type": "stream",
     "text": [
      "2019-07-03 16:18:14,511 initializing sim Sim-v0\n",
      "I0703 16:18:14.516537 66422 simulator.py:78] Loaded navmesh /private/home/medhini/navigation-analysis-habitat/habitat-api/data/scene_datasets/mp3d/2azQ1b91cZZ/2azQ1b91cZZ.navmesh\n",
      "2019-07-03 16:18:25,907 initializing task Nav-v0\n"
     ]
    },
    {
     "name": "stdout",
     "output_type": "stream",
     "text": [
      "Environment creation successful\n",
      "COORDINATES RANGE: -62.324101 90.039901\n",
      "MAP_RESOLUTION: (1250, 1250)\n",
      "SOURCE POSITION REAL WORLD: 0.5976877212524414 5.558842658996582\n",
      "SOURCE POSITION GRID WORLD: 733 556\n",
      "TARGET POSITION REAL WORLD: 19.30671501159668 -9.629144668579102\n",
      "TARGET POSITION: 580 432\n",
      "PADDING: 2\n"
     ]
    }
   ],
   "source": [
    "import os\n",
    "import shutil\n",
    "\n",
    "from PIL import Image\n",
    "import numpy as np\n",
    "\n",
    "import habitat\n",
    "from habitat.tasks.nav.shortest_path_follower import ShortestPathFollower\n",
    "from habitat.utils.visualizations import maps\n",
    "\n",
    "class SimpleRLEnv(habitat.RLEnv):\n",
    "    def get_reward_range(self):\n",
    "        return [-1, 1]\n",
    "\n",
    "    def get_reward(self, observations):\n",
    "        return 0\n",
    "\n",
    "    def get_done(self, observations):\n",
    "        return self.habitat_env.episode_over\n",
    "\n",
    "    def get_info(self, observations):\n",
    "        return self.habitat_env.get_metrics()\n",
    "    \n",
    "def draw_top_down_map(info, heading, output_size):\n",
    "    top_down_map = maps.colorize_topdown_map(info[\"top_down_map\"][\"map\"])\n",
    "    original_map_size = top_down_map.shape[:2]\n",
    "    map_scale = np.array(\n",
    "        (1, original_map_size[1] * 1.0 / original_map_size[0])\n",
    "    )\n",
    "    new_map_size = np.round(output_size * map_scale).astype(np.int32)\n",
    "    # OpenCV expects w, h but map size is in h, w\n",
    "    top_down_map = cv2.resize(top_down_map, (new_map_size[1], new_map_size[0]))\n",
    "\n",
    "    map_agent_pos = info[\"top_down_map\"][\"agent_map_coord\"]\n",
    "    map_agent_pos = np.round(\n",
    "        map_agent_pos * new_map_size / original_map_size\n",
    "    ).astype(np.int32)\n",
    "    top_down_map = maps.draw_agent(\n",
    "        top_down_map,\n",
    "        map_agent_pos,\n",
    "        heading - np.pi / 2,\n",
    "        agent_radius_px=top_down_map.shape[0] / 40,\n",
    "    )\n",
    "    return top_down_map\n",
    "    \n",
    "def draw_top_down_map(): \n",
    "    splits = ['val', 'test', 'train']\n",
    "\n",
    "    data_path = '../data/datasets/roomnav/mp3d/v1/{split}/{split}.json.gz'\n",
    "\n",
    "    for split in splits:\n",
    "    \n",
    "        config = habitat.get_config(config_paths=\"tasks/roomnav_mp3d.yaml\")\n",
    "        config.defrost()\n",
    "        config.DATASET.DATA_PATH = data_path.format(split=split)\n",
    "        config.DATASET.SCENES_DIR = '../data/scene_datasets/'\n",
    "        config.TASK.MEASUREMENTS.append(\"TOP_DOWN_MAP\")\n",
    "        config.TASK.SENSORS.append(\"HEADING_SENSOR\")\n",
    "        config.freeze()\n",
    "        \n",
    "    \n",
    "        outfile = 'AverageTopDown-{split}'.format(split=split)\n",
    "\n",
    "        env = SimpleRLEnv(config=config)\n",
    "        \n",
    "        \n",
    "        goal_radius = env.episodes[0].goals[0].radius\n",
    "        if goal_radius is None:\n",
    "            goal_radius = config.SIMULATOR.FORWARD_STEP_SIZE\n",
    "        \n",
    "        follower = ShortestPathFollower(env.habitat_env.sim, goal_radius, False)\n",
    "        follower.mode = 'greedy'\n",
    "\n",
    "        print(\"Environment creation successful\")\n",
    "        for episode in range(len(env.episodes)):\n",
    "            observations = env.reset()\n",
    "            best_action = follower.get_next_action(\n",
    "                env.habitat_env.current_episode.goals[0].position\n",
    "            )\n",
    "            observations, reward, done, info = env.step(best_action)\n",
    "#             im = observations[\"rgb\"]\n",
    "#             output_size = im.shape[0]\n",
    "#             heading = observations[\"heading\"]\n",
    "    \n",
    "            top_down_map = maps.colorize_topdown_map(info[\"top_down_map\"][\"map\"])\n",
    "        \n",
    "            top_down_map = Image.fromarray(top_down_map)\n",
    "            return top_down_map\n",
    "            top_down_map.show()\n",
    "            sys.exit(0)\n",
    "#             original_map_size = top_down_map.shape[:2]\n",
    "#             map_scale = np.array(\n",
    "#                 (1, original_map_size[1] * 1.0 / original_map_size[0])\n",
    "#             )\n",
    "#             new_map_size = np.round(output_size * map_scale).astype(np.int32)\n",
    "#             # OpenCV expects w, h but map size is in h, w\n",
    "#             top_down_map = cv2.resize(top_down_map, (new_map_size[1], new_map_size[0]))\n",
    "\n",
    "#             map_agent_pos = info[\"top_down_map\"][\"agent_map_coord\"]\n",
    "#             map_agent_pos = np.round(\n",
    "#                 map_agent_pos * new_map_size / original_map_size\n",
    "#             ).astype(np.int32)\n",
    "            \n",
    "            \n",
    "res = draw_top_down_map()\n",
    "\n",
    "\n"
   ]
  },
  {
   "cell_type": "code",
   "execution_count": 2,
   "metadata": {},
   "outputs": [
    {
     "data": {
      "image/png": "[encoded data removed]",
      "text/plain": [
       "<PIL.Image.Image image mode=RGB size=208x351 at 0x7F5BDB069A20>"
      ]
     },
     "execution_count": 2,
     "metadata": {},
     "output_type": "execute_result"
    }
   ],
   "source": [
    "res"
   ]
  },
  {
   "cell_type": "code",
   "execution_count": null,
   "metadata": {},
   "outputs": [],
   "source": [
    "YOLO COORDINATES RANGE: -62.324101 90.039901\n",
    "YOLO MAP_RESOLUTION: (1250, 1250)\n",
    "YOLO SOURCE POSITION REAL WORLD: 2.0708532333374023 0.7956106662750244\n",
    "YOLO SOURCE POSITION GRID WORLD: 721 517\n",
    "YOLO TARGET POSITION REAL WORLD: 10.323966026306152 4.899158477783203\n",
    "YOLO TARGET POSITION: 653 551\n",
    "YOLO PADDING: 2\n",
    "    \n",
    "COORDINATES RANGE: -62.324101 90.039901\n",
    "MAP_RESOLUTION: 1250\n",
    "SOURCE POSITION REAL WORLD: 0.5976877212524414 5.558842658996582\n",
    "SOURCE POSITION GRID WORLD: 733 556\n",
    "PADDING 4\n",
    "TARGET POSITION REAL WORLD: 19.30671501159668 -9.629144668579102\n",
    "TARGET POSITION: 580 432\n",
    "    \n",
    "    \n",
    "    YOLO COORDINATES RANGE: -62.324101 90.039901\n",
    "YOLO MAP_RESOLUTION: (1250, 1250)\n",
    "YOLO SOURCE POSITION REAL WORLD: 10.69529914855957 7.605946063995361\n",
    "YOLO SOURCE POSITION GRID WORLD: 650 573\n",
    "YOLO TARGET POSITION REAL WORLD: 3.046595573425293 1.6201083660125732\n",
    "YOLO TARGET POSITION: 713 524\n",
    "YOLO PADDING: 2"
   ]
  }
 ],
 "metadata": {
  "kernelspec": {
   "display_name": "Python 3",
   "language": "python",
   "name": "python3"
  },
  "language_info": {
   "codemirror_mode": {
    "name": "ipython",
    "version": 3
   },
   "file_extension": ".py",
   "mimetype": "text/x-python",
   "name": "python",
   "nbconvert_exporter": "python",
   "pygments_lexer": "ipython3",
   "version": "3.6.8"
  }
 },
 "nbformat": 4,
 "nbformat_minor": 2
}
